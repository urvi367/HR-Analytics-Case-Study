{
 "cells": [
  {
   "cell_type": "markdown",
   "id": "institutional-blast",
   "metadata": {},
   "source": [
    "## Problem Statement\n",
    "\n",
    "The data used for this exercise is of company XYZ, with about 4000 employees, spread over 5 different csv files. The goal is to analyse the factors contributing to employee attrition (ie employees leaving, either on their own or because they got fired).\n"
   ]
  },
  {
   "cell_type": "markdown",
   "id": "turned-sample",
   "metadata": {
    "ExecuteTime": {
     "end_time": "2021-04-02T13:32:09.752598Z",
     "start_time": "2021-04-02T13:32:09.607Z"
    }
   },
   "source": [
    "## Import packages"
   ]
  },
  {
   "cell_type": "code",
   "execution_count": 1,
   "id": "fifth-tuner",
   "metadata": {
    "ExecuteTime": {
     "end_time": "2021-04-20T18:12:42.513189Z",
     "start_time": "2021-04-20T18:12:42.490Z"
    }
   },
   "outputs": [],
   "source": [
    "options(warn=-1)"
   ]
  },
  {
   "cell_type": "code",
   "execution_count": 2,
   "id": "close-sperm",
   "metadata": {
    "ExecuteTime": {
     "end_time": "2021-04-20T18:12:46.955092Z",
     "start_time": "2021-04-20T18:12:42.693Z"
    }
   },
   "outputs": [
    {
     "name": "stdout",
     "output_type": "stream",
     "text": [
      "package 'ROSE' successfully unpacked and MD5 sums checked\n",
      "\n",
      "The downloaded binary packages are in\n",
      "\tC:\\Users\\urvi3\\AppData\\Local\\Temp\\RtmpI1VMFR\\downloaded_packages\n"
     ]
    }
   ],
   "source": [
    "install.packages(\"ROSE\")"
   ]
  },
  {
   "cell_type": "code",
   "execution_count": 3,
   "id": "faced-garlic",
   "metadata": {
    "ExecuteTime": {
     "end_time": "2021-04-20T18:12:48.769463Z",
     "start_time": "2021-04-20T18:12:42.889Z"
    }
   },
   "outputs": [
    {
     "name": "stderr",
     "output_type": "stream",
     "text": [
      "Registered S3 methods overwritten by 'ggplot2':\n",
      "  method         from \n",
      "  [.quosures     rlang\n",
      "  c.quosures     rlang\n",
      "  print.quosures rlang\n",
      "\n",
      "Attaching package: 'lubridate'\n",
      "\n",
      "The following object is masked from 'package:cowplot':\n",
      "\n",
      "    stamp\n",
      "\n",
      "The following object is masked from 'package:base':\n",
      "\n",
      "    date\n",
      "\n",
      "Loading required package: gplots\n",
      "\n",
      "Attaching package: 'gplots'\n",
      "\n",
      "The following object is masked from 'package:stats':\n",
      "\n",
      "    lowess\n",
      "\n",
      "Loaded ROSE 0.0-3\n",
      "\n",
      "Loading required package: lattice\n",
      "Loading required package: survival\n",
      "Loading required package: Formula\n",
      "\n",
      "Attaching package: 'Hmisc'\n",
      "\n",
      "The following object is masked from 'package:e1071':\n",
      "\n",
      "    impute\n",
      "\n",
      "The following objects are masked from 'package:base':\n",
      "\n",
      "    format.pval, units\n",
      "\n"
     ]
    }
   ],
   "source": [
    "library(e1071)\n",
    "library(ggplot2)\n",
    "library(cowplot)\n",
    "library(caTools)\n",
    "library(lubridate)\n",
    "library(ROCR)\n",
    "library(ROSE)\n",
    "library(Hmisc)"
   ]
  },
  {
   "cell_type": "markdown",
   "id": "ranging-ballet",
   "metadata": {},
   "source": [
    "## Read data"
   ]
  },
  {
   "cell_type": "code",
   "execution_count": 4,
   "id": "mysterious-cause",
   "metadata": {
    "ExecuteTime": {
     "end_time": "2021-04-20T18:12:52.157451Z",
     "start_time": "2021-04-20T18:12:43.439Z"
    }
   },
   "outputs": [],
   "source": [
    "#reading all the CSV files and converting to data frame \n",
    "emp_general<-read.csv(\"general_data.csv\", stringsAsFactors = F)\n",
    "emp_suvey<-read.csv(\"employee_survey_data.csv\",stringsAsFactors = F)\n",
    "emp_manager_suvey<-read.csv(\"manager_survey_data.csv\",stringsAsFactors = F)\n",
    "emp_intime<-read.csv(\"in_time.csv\",stringsAsFactors = F)\n",
    "emp_outime<-read.csv(\"out_time.csv\",stringsAsFactors = F)"
   ]
  },
  {
   "cell_type": "markdown",
   "id": "detected-triple",
   "metadata": {},
   "source": [
    "## Explore data"
   ]
  },
  {
   "cell_type": "code",
   "execution_count": 5,
   "id": "second-regard",
   "metadata": {
    "ExecuteTime": {
     "end_time": "2021-04-20T18:13:09.416953Z",
     "start_time": "2021-04-20T18:12:43.881Z"
    }
   },
   "outputs": [
    {
     "name": "stdout",
     "output_type": "stream",
     "text": [
      "'data.frame':\t4410 obs. of  24 variables:\n",
      " $ Age                    : int  51 31 32 38 32 46 28 29 31 25 ...\n",
      " $ Attrition              : chr  \"No\" \"Yes\" \"No\" \"No\" ...\n",
      " $ BusinessTravel         : chr  \"Travel_Rarely\" \"Travel_Frequently\" \"Travel_Frequently\" \"Non-Travel\" ...\n",
      " $ Department             : chr  \"Sales\" \"Research & Development\" \"Research & Development\" \"Research & Development\" ...\n",
      " $ DistanceFromHome       : int  6 10 17 2 10 8 11 18 1 7 ...\n",
      " $ Education              : int  2 1 4 5 1 3 2 3 3 4 ...\n",
      " $ EducationField         : chr  \"Life Sciences\" \"Life Sciences\" \"Other\" \"Life Sciences\" ...\n",
      " $ EmployeeCount          : int  1 1 1 1 1 1 1 1 1 1 ...\n",
      " $ EmployeeID             : int  1 2 3 4 5 6 7 8 9 10 ...\n",
      " $ Gender                 : chr  \"Female\" \"Female\" \"Male\" \"Male\" ...\n",
      " $ JobLevel               : int  1 1 4 3 1 4 2 2 3 4 ...\n",
      " $ JobRole                : chr  \"Healthcare Representative\" \"Research Scientist\" \"Sales Executive\" \"Human Resources\" ...\n",
      " $ MaritalStatus          : chr  \"Married\" \"Single\" \"Married\" \"Married\" ...\n",
      " $ MonthlyIncome          : int  131160 41890 193280 83210 23420 40710 58130 31430 20440 134640 ...\n",
      " $ NumCompaniesWorked     : int  1 0 1 3 4 3 2 2 0 1 ...\n",
      " $ Over18                 : chr  \"Y\" \"Y\" \"Y\" \"Y\" ...\n",
      " $ PercentSalaryHike      : int  11 23 15 11 12 13 20 22 21 13 ...\n",
      " $ StandardHours          : int  8 8 8 8 8 8 8 8 8 8 ...\n",
      " $ StockOptionLevel       : int  0 1 3 3 2 0 1 3 0 1 ...\n",
      " $ TotalWorkingYears      : int  1 6 5 13 9 28 5 10 10 6 ...\n",
      " $ TrainingTimesLastYear  : int  6 3 2 5 2 5 2 2 2 2 ...\n",
      " $ YearsAtCompany         : int  1 5 5 8 6 7 0 0 9 6 ...\n",
      " $ YearsSinceLastPromotion: int  0 1 0 7 0 7 0 0 7 1 ...\n",
      " $ YearsWithCurrManager   : int  0 4 3 5 4 7 0 0 8 5 ...\n"
     ]
    }
   ],
   "source": [
    "str(emp_general) #4410 obs. of  24 variables with target variable \"Attrition\""
   ]
  },
  {
   "cell_type": "code",
   "execution_count": 6,
   "id": "curious-baker",
   "metadata": {
    "ExecuteTime": {
     "end_time": "2021-04-20T18:13:25.845420Z",
     "start_time": "2021-04-20T18:12:44.403Z"
    }
   },
   "outputs": [
    {
     "name": "stdout",
     "output_type": "stream",
     "text": [
      "'data.frame':\t4410 obs. of  4 variables:\n",
      " $ EmployeeID             : int  1 2 3 4 5 6 7 8 9 10 ...\n",
      " $ EnvironmentSatisfaction: int  3 3 2 4 4 3 1 1 2 2 ...\n",
      " $ JobSatisfaction        : int  4 2 2 4 1 2 3 2 4 1 ...\n",
      " $ WorkLifeBalance        : int  2 4 1 3 3 2 1 3 3 3 ...\n"
     ]
    }
   ],
   "source": [
    "str(emp_suvey)   #4410 obs. of  4 variables"
   ]
  },
  {
   "cell_type": "code",
   "execution_count": 7,
   "id": "induced-mount",
   "metadata": {
    "ExecuteTime": {
     "end_time": "2021-04-20T18:13:42.323073Z",
     "start_time": "2021-04-20T18:12:44.470Z"
    }
   },
   "outputs": [
    {
     "name": "stdout",
     "output_type": "stream",
     "text": [
      "'data.frame':\t4410 obs. of  3 variables:\n",
      " $ EmployeeID       : int  1 2 3 4 5 6 7 8 9 10 ...\n",
      " $ JobInvolvement   : int  3 2 3 2 3 3 3 3 3 3 ...\n",
      " $ PerformanceRating: int  3 4 3 3 3 3 4 4 4 3 ...\n"
     ]
    }
   ],
   "source": [
    "str(emp_manager_suvey) #4410 obs. of  3 variables"
   ]
  },
  {
   "cell_type": "code",
   "execution_count": 8,
   "id": "inappropriate-joining",
   "metadata": {
    "ExecuteTime": {
     "end_time": "2021-04-20T18:14:01.929256Z",
     "start_time": "2021-04-20T18:12:44.536Z"
    }
   },
   "outputs": [],
   "source": [
    "#Adding first column header in both the dataframes\n",
    "colnames(emp_intime)[1]<-\"EmployeeID\"\n",
    "colnames(emp_outime)[1]<-\"EmployeeID\""
   ]
  },
  {
   "cell_type": "code",
   "execution_count": 9,
   "id": "laden-batman",
   "metadata": {
    "ExecuteTime": {
     "end_time": "2021-04-20T18:14:18.926993Z",
     "start_time": "2021-04-20T18:12:44.604Z"
    }
   },
   "outputs": [
    {
     "data": {
      "text/html": [],
      "text/latex": [],
      "text/markdown": [],
      "text/plain": [
       "integer(0)"
      ]
     },
     "metadata": {},
     "output_type": "display_data"
    },
    {
     "data": {
      "text/html": [],
      "text/latex": [],
      "text/markdown": [],
      "text/plain": [
       "integer(0)"
      ]
     },
     "metadata": {},
     "output_type": "display_data"
    },
    {
     "data": {
      "text/html": [],
      "text/latex": [],
      "text/markdown": [],
      "text/plain": [
       "integer(0)"
      ]
     },
     "metadata": {},
     "output_type": "display_data"
    },
    {
     "data": {
      "text/html": [],
      "text/latex": [],
      "text/markdown": [],
      "text/plain": [
       "integer(0)"
      ]
     },
     "metadata": {},
     "output_type": "display_data"
    }
   ],
   "source": [
    "setdiff(emp_general$EmployeeID,emp_suvey$EmployeeID)  #Identical EmployeeID across these datasets\n",
    "setdiff(emp_general$EmployeeID,emp_manager_suvey$EmployeeID) #Identical EmployeeID across these datasets\n",
    "setdiff(emp_general$EmployeeID,emp_intime$EmployeeID)   #Identical EmployeeID across these datasets\n",
    "setdiff(emp_general$EmployeeID,emp_outime$EmployeeID)   #Identical EmployeeID across these datasets"
   ]
  },
  {
   "cell_type": "markdown",
   "id": "russian-joyce",
   "metadata": {},
   "source": [
    "## Data preprocessing - 1\n",
    "\n",
    "Working with time_in and time_out dataframes for data transformation and cleaning"
   ]
  },
  {
   "cell_type": "code",
   "execution_count": 10,
   "id": "enclosed-beauty",
   "metadata": {
    "ExecuteTime": {
     "end_time": "2021-04-20T18:15:23.457516Z",
     "start_time": "2021-04-20T18:12:44.705Z"
    }
   },
   "outputs": [],
   "source": [
    "#Converting columns into appropriate date & time format\n",
    "emp_id<-emp_intime[1]\n",
    "emp_intime <- as.data.frame(lapply( emp_intime[, -1], as.POSIXlt))\n",
    "emp_outime <- as.data.frame(lapply( emp_outime[, -1], as.POSIXlt))"
   ]
  },
  {
   "cell_type": "code",
   "execution_count": 11,
   "id": "swedish-chancellor",
   "metadata": {
    "ExecuteTime": {
     "end_time": "2021-04-20T18:15:42.120065Z",
     "start_time": "2021-04-20T18:12:44.774Z"
    }
   },
   "outputs": [
    {
     "data": {
      "text/html": [],
      "text/latex": [],
      "text/markdown": [],
      "text/plain": [
       "character(0)"
      ]
     },
     "metadata": {},
     "output_type": "display_data"
    }
   ],
   "source": [
    "#Comparing the column headers in both the dataframes\n",
    "setdiff(colnames(emp_intime), colnames(emp_outime)) #As all the coulms are same so substracting both the dataframes"
   ]
  },
  {
   "cell_type": "code",
   "execution_count": 12,
   "id": "atomic-division",
   "metadata": {
    "ExecuteTime": {
     "end_time": "2021-04-20T18:15:57.864081Z",
     "start_time": "2021-04-20T18:12:44.840Z"
    }
   },
   "outputs": [],
   "source": [
    "#calculating difference of times to get actual login hours\n",
    "emp_login <-  emp_outime-emp_intime"
   ]
  },
  {
   "cell_type": "code",
   "execution_count": 13,
   "id": "soviet-restaurant",
   "metadata": {
    "ExecuteTime": {
     "end_time": "2021-04-20T18:16:21.265471Z",
     "start_time": "2021-04-20T18:12:44.907Z"
    }
   },
   "outputs": [],
   "source": [
    "#Converting login hours to 2 decimal points\n",
    "emp_login <- as.data.frame(lapply(emp_login, round, digits=2))"
   ]
  },
  {
   "cell_type": "code",
   "execution_count": 14,
   "id": "cosmetic-kennedy",
   "metadata": {
    "ExecuteTime": {
     "end_time": "2021-04-20T18:16:41.863167Z",
     "start_time": "2021-04-20T18:12:44.975Z"
    }
   },
   "outputs": [],
   "source": [
    "#To delete all such columns when everybody was NA's as those are company holidays. \n",
    "emp_login <- emp_login[,colSums(is.na(emp_login))<nrow(emp_login)]\n",
    "emp_login<-cbind(emp_id,emp_login)"
   ]
  },
  {
   "cell_type": "code",
   "execution_count": 15,
   "id": "everyday-shepherd",
   "metadata": {
    "ExecuteTime": {
     "end_time": "2021-04-20T18:17:04.352713Z",
     "start_time": "2021-04-20T18:12:45.042Z"
    }
   },
   "outputs": [],
   "source": [
    "#Converting all the columns into numeric\n",
    "emp_login<- as.data.frame(sapply(emp_login, as.numeric))"
   ]
  },
  {
   "cell_type": "markdown",
   "id": "activated-modern",
   "metadata": {},
   "source": [
    "## Derived Metrics\n",
    "\n",
    "3 additional input features have been created using time_in and time_out dataframes"
   ]
  },
  {
   "cell_type": "code",
   "execution_count": 16,
   "id": "arabic-publicity",
   "metadata": {
    "ExecuteTime": {
     "end_time": "2021-04-20T18:17:24.950482Z",
     "start_time": "2021-04-20T18:12:45.177Z"
    }
   },
   "outputs": [],
   "source": [
    "#To calculate average login hours for the employee\n",
    "emp_login$emp_avg_login <- apply(emp_login[,-1], 1, mean, na.rm=TRUE)"
   ]
  },
  {
   "cell_type": "code",
   "execution_count": 17,
   "id": "italic-plain",
   "metadata": {
    "ExecuteTime": {
     "end_time": "2021-04-20T18:17:45.673715Z",
     "start_time": "2021-04-20T18:12:45.245Z"
    }
   },
   "outputs": [],
   "source": [
    "#round off the average working hours\n",
    "emp_login$emp_avg_login<-round(emp_login$emp_avg_login, 0)"
   ]
  },
  {
   "cell_type": "code",
   "execution_count": 18,
   "id": "artificial-match",
   "metadata": {
    "ExecuteTime": {
     "end_time": "2021-04-20T18:18:06.587033Z",
     "start_time": "2021-04-20T18:12:45.310Z"
    }
   },
   "outputs": [],
   "source": [
    "#Bucketing the avg login time into 3 categories by considering standard login hours as 8\n",
    "emp_login$emp_login_cat<- ifelse(emp_login$emp_avg_login > 8, \"overtime\", ifelse(emp_login$emp_avg_login>7 & emp_login$emp_avg_login<=8,\"regular\", \"early logout\"))"
   ]
  },
  {
   "cell_type": "code",
   "execution_count": 19,
   "id": "standard-there",
   "metadata": {
    "ExecuteTime": {
     "end_time": "2021-04-20T18:18:27.529812Z",
     "start_time": "2021-04-20T18:12:45.378Z"
    }
   },
   "outputs": [],
   "source": [
    "#extrating only 3 columns to merge with other dataset's\n",
    "emp_login<-emp_login[, c(1,251,252)]"
   ]
  },
  {
   "cell_type": "code",
   "execution_count": 20,
   "id": "deluxe-devices",
   "metadata": {
    "ExecuteTime": {
     "end_time": "2021-04-20T18:18:43.575727Z",
     "start_time": "2021-04-20T18:12:45.445Z"
    }
   },
   "outputs": [],
   "source": [
    "#Merging all the dataset and creating master dataframe as \"hrdata\"\n",
    "hrdata<-merge(emp_general,emp_suvey, by=\"EmployeeID\", all = F)\n",
    "hrdata<- merge(hrdata,emp_manager_suvey, by=\"EmployeeID\", all = F)\n",
    "hrdata<- merge(hrdata,emp_login, by=\"EmployeeID\", all = F)"
   ]
  },
  {
   "cell_type": "code",
   "execution_count": 21,
   "id": "stock-watershed",
   "metadata": {
    "ExecuteTime": {
     "end_time": "2021-04-20T18:19:00.702807Z",
     "start_time": "2021-04-20T18:12:45.511Z"
    }
   },
   "outputs": [
    {
     "name": "stdout",
     "output_type": "stream",
     "text": [
      "'data.frame':\t4410 obs. of  31 variables:\n",
      " $ EmployeeID             : int  1 2 3 4 5 6 7 8 9 10 ...\n",
      " $ Age                    : int  51 31 32 38 32 46 28 29 31 25 ...\n",
      " $ Attrition              : chr  \"No\" \"Yes\" \"No\" \"No\" ...\n",
      " $ BusinessTravel         : chr  \"Travel_Rarely\" \"Travel_Frequently\" \"Travel_Frequently\" \"Non-Travel\" ...\n",
      " $ Department             : chr  \"Sales\" \"Research & Development\" \"Research & Development\" \"Research & Development\" ...\n",
      " $ DistanceFromHome       : int  6 10 17 2 10 8 11 18 1 7 ...\n",
      " $ Education              : int  2 1 4 5 1 3 2 3 3 4 ...\n",
      " $ EducationField         : chr  \"Life Sciences\" \"Life Sciences\" \"Other\" \"Life Sciences\" ...\n",
      " $ EmployeeCount          : int  1 1 1 1 1 1 1 1 1 1 ...\n",
      " $ Gender                 : chr  \"Female\" \"Female\" \"Male\" \"Male\" ...\n",
      " $ JobLevel               : int  1 1 4 3 1 4 2 2 3 4 ...\n",
      " $ JobRole                : chr  \"Healthcare Representative\" \"Research Scientist\" \"Sales Executive\" \"Human Resources\" ...\n",
      " $ MaritalStatus          : chr  \"Married\" \"Single\" \"Married\" \"Married\" ...\n",
      " $ MonthlyIncome          : int  131160 41890 193280 83210 23420 40710 58130 31430 20440 134640 ...\n",
      " $ NumCompaniesWorked     : int  1 0 1 3 4 3 2 2 0 1 ...\n",
      " $ Over18                 : chr  \"Y\" \"Y\" \"Y\" \"Y\" ...\n",
      " $ PercentSalaryHike      : int  11 23 15 11 12 13 20 22 21 13 ...\n",
      " $ StandardHours          : int  8 8 8 8 8 8 8 8 8 8 ...\n",
      " $ StockOptionLevel       : int  0 1 3 3 2 0 1 3 0 1 ...\n",
      " $ TotalWorkingYears      : int  1 6 5 13 9 28 5 10 10 6 ...\n",
      " $ TrainingTimesLastYear  : int  6 3 2 5 2 5 2 2 2 2 ...\n",
      " $ YearsAtCompany         : int  1 5 5 8 6 7 0 0 9 6 ...\n",
      " $ YearsSinceLastPromotion: int  0 1 0 7 0 7 0 0 7 1 ...\n",
      " $ YearsWithCurrManager   : int  0 4 3 5 4 7 0 0 8 5 ...\n",
      " $ EnvironmentSatisfaction: int  3 3 2 4 4 3 1 1 2 2 ...\n",
      " $ JobSatisfaction        : int  4 2 2 4 1 2 3 2 4 1 ...\n",
      " $ WorkLifeBalance        : int  2 4 1 3 3 2 1 3 3 3 ...\n",
      " $ JobInvolvement         : int  3 2 3 2 3 3 3 3 3 3 ...\n",
      " $ PerformanceRating      : int  3 4 3 3 3 3 4 4 4 3 ...\n",
      " $ emp_avg_login          : num  7 8 7 7 8 11 7 7 7 7 ...\n",
      " $ emp_login_cat          : chr  \"early logout\" \"regular\" \"early logout\" \"early logout\" ...\n"
     ]
    }
   ],
   "source": [
    "str(hrdata)"
   ]
  },
  {
   "cell_type": "code",
   "execution_count": 22,
   "id": "several-sentence",
   "metadata": {
    "ExecuteTime": {
     "end_time": "2021-04-20T18:19:17.950420Z",
     "start_time": "2021-04-20T18:12:45.580Z"
    }
   },
   "outputs": [],
   "source": [
    "#removing columns which are having only single type value\n",
    "hrdata<-hrdata[, -c(9,16,18)]"
   ]
  },
  {
   "cell_type": "markdown",
   "id": "73ca8c64",
   "metadata": {},
   "source": [
    "## Under Sampling "
   ]
  },
  {
   "cell_type": "code",
   "execution_count": 23,
   "id": "9cd6583d",
   "metadata": {
    "ExecuteTime": {
     "end_time": "2021-04-20T18:19:37.636748Z",
     "start_time": "2021-04-20T18:12:45.712Z"
    }
   },
   "outputs": [
    {
     "data": {
      "text/html": [
       "111"
      ],
      "text/latex": [
       "111"
      ],
      "text/markdown": [
       "111"
      ],
      "text/plain": [
       "[1] 111"
      ]
     },
     "metadata": {},
     "output_type": "display_data"
    }
   ],
   "source": [
    "sum(is.na(hrdata))"
   ]
  },
  {
   "cell_type": "markdown",
   "id": "5a564b73",
   "metadata": {},
   "source": [
    "We have 111 NA values in the dataframe."
   ]
  },
  {
   "cell_type": "code",
   "execution_count": 24,
   "id": "81f06a90",
   "metadata": {
    "ExecuteTime": {
     "end_time": "2021-04-20T18:19:54.448030Z",
     "start_time": "2021-04-20T18:12:45.847Z"
    }
   },
   "outputs": [
    {
     "data": {
      "text/plain": [
       "\n",
       "  No  Yes \n",
       "3699  711 "
      ]
     },
     "metadata": {},
     "output_type": "display_data"
    }
   ],
   "source": [
    "table(hrdata$Attrition)"
   ]
  },
  {
   "cell_type": "markdown",
   "id": "f9d17edd",
   "metadata": {},
   "source": [
    "This is a higly imbalanced dataset with close to 15.7% attrition rate."
   ]
  },
  {
   "cell_type": "code",
   "execution_count": 25,
   "id": "b939fe4e",
   "metadata": {
    "ExecuteTime": {
     "end_time": "2021-04-20T18:20:11.701589Z",
     "start_time": "2021-04-20T18:12:45.981Z"
    }
   },
   "outputs": [
    {
     "data": {
      "text/plain": [
       "\n",
       " No Yes \n",
       "805 695 "
      ]
     },
     "metadata": {},
     "output_type": "display_data"
    }
   ],
   "source": [
    "hrdata <- ovun.sample(Attrition ~ ., data = hrdata, method = \"under\", N = 1500, seed = 1)$data\n",
    "table(hrdata$Attrition)"
   ]
  },
  {
   "cell_type": "code",
   "execution_count": 26,
   "id": "8680f6e1",
   "metadata": {
    "ExecuteTime": {
     "end_time": "2021-04-20T18:20:28.254632Z",
     "start_time": "2021-04-20T18:12:46.049Z"
    }
   },
   "outputs": [
    {
     "name": "stdout",
     "output_type": "stream",
     "text": [
      "'data.frame':\t1500 obs. of  28 variables:\n",
      " $ EmployeeID             : int  1254 844 2671 1150 1877 591 2874 330 1487 4134 ...\n",
      " $ Age                    : int  27 32 35 24 36 35 27 52 21 38 ...\n",
      " $ Attrition              : chr  \"No\" \"No\" \"No\" \"No\" ...\n",
      " $ BusinessTravel         : chr  \"Travel_Rarely\" \"Travel_Rarely\" \"Travel_Rarely\" \"Travel_Rarely\" ...\n",
      " $ Department             : chr  \"Sales\" \"Research & Development\" \"Human Resources\" \"Research & Development\" ...\n",
      " $ DistanceFromHome       : int  8 22 14 5 26 3 15 29 3 23 ...\n",
      " $ Education              : int  2 4 1 4 4 3 3 3 2 3 ...\n",
      " $ EducationField         : chr  \"Marketing\" \"Medical\" \"Life Sciences\" \"Other\" ...\n",
      " $ Gender                 : chr  \"Female\" \"Male\" \"Male\" \"Male\" ...\n",
      " $ JobLevel               : int  3 1 2 1 1 2 1 2 1 3 ...\n",
      " $ JobRole                : chr  \"Research Scientist\" \"Sales Executive\" \"Research Scientist\" \"Manufacturing Director\" ...\n",
      " $ MaritalStatus          : chr  \"Divorced\" \"Married\" \"Married\" \"Single\" ...\n",
      " $ MonthlyIncome          : int  45990 29730 79880 178610 84740 22580 39860 29420 42130 39040 ...\n",
      " $ NumCompaniesWorked     : int  1 3 1 1 0 1 1 8 1 1 ...\n",
      " $ PercentSalaryHike      : int  15 22 18 11 14 11 12 11 12 22 ...\n",
      " $ StockOptionLevel       : int  1 0 0 2 0 1 2 1 3 0 ...\n",
      " $ TotalWorkingYears      : int  1 12 4 4 17 2 7 9 3 10 ...\n",
      " $ TrainingTimesLastYear  : int  3 0 3 5 3 2 3 1 3 3 ...\n",
      " $ YearsAtCompany         : int  1 7 4 4 16 2 7 5 3 10 ...\n",
      " $ YearsSinceLastPromotion: int  0 2 1 1 4 2 0 1 1 1 ...\n",
      " $ YearsWithCurrManager   : int  0 5 1 2 11 2 3 4 0 9 ...\n",
      " $ EnvironmentSatisfaction: int  4 4 3 2 3 4 4 4 4 1 ...\n",
      " $ JobSatisfaction        : int  1 2 4 3 4 4 2 3 3 4 ...\n",
      " $ WorkLifeBalance        : int  3 3 3 2 2 4 2 3 4 3 ...\n",
      " $ JobInvolvement         : int  2 4 3 1 3 3 3 2 2 2 ...\n",
      " $ PerformanceRating      : int  3 4 3 3 3 3 3 3 3 4 ...\n",
      " $ emp_avg_login          : num  8 7 7 7 10 8 8 6 7 7 ...\n",
      " $ emp_login_cat          : chr  \"regular\" \"early logout\" \"early logout\" \"early logout\" ...\n"
     ]
    }
   ],
   "source": [
    "str(hrdata)"
   ]
  },
  {
   "cell_type": "code",
   "execution_count": 27,
   "id": "9a5c33b8",
   "metadata": {
    "ExecuteTime": {
     "end_time": "2021-04-20T18:20:45.617171Z",
     "start_time": "2021-04-20T18:12:46.117Z"
    }
   },
   "outputs": [
    {
     "data": {
      "text/html": [
       "0"
      ],
      "text/latex": [
       "0"
      ],
      "text/markdown": [
       "0"
      ],
      "text/plain": [
       "[1] 0"
      ]
     },
     "metadata": {},
     "output_type": "display_data"
    }
   ],
   "source": [
    "sum(is.na(hrdata))"
   ]
  },
  {
   "cell_type": "markdown",
   "id": "44590e84",
   "metadata": {},
   "source": [
    "We are left with no null values after undersampling."
   ]
  },
  {
   "cell_type": "markdown",
   "id": "ready-nursery",
   "metadata": {},
   "source": [
    "## Variable Transformation\n",
    "\n",
    "As per data dictionary, bringing few variables into correct format by converting the numeric values to categorical variables"
   ]
  },
  {
   "cell_type": "code",
   "execution_count": 28,
   "id": "charming-expert",
   "metadata": {
    "ExecuteTime": {
     "end_time": "2021-04-20T18:21:03.421984Z",
     "start_time": "2021-04-20T18:12:46.320Z"
    }
   },
   "outputs": [],
   "source": [
    "hrdata$Education[which(hrdata$Education==1)]<-'Below College'\n",
    "hrdata$Education[which(hrdata$Education==2)]<-'College'\n",
    "hrdata$Education[which(hrdata$Education==3)]<-'Bachelor'\n",
    "hrdata$Education[which(hrdata$Education==4)]<-'Master'\n",
    "hrdata$Education[which(hrdata$Education==5)]<-'Doctor'\n",
    "hrdata$EnvironmentSatisfaction[which(hrdata$EnvironmentSatisfaction==1)]<-'Low'\n",
    "hrdata$EnvironmentSatisfaction[which(hrdata$EnvironmentSatisfaction==2)]<-'Medium'\n",
    "hrdata$EnvironmentSatisfaction[which(hrdata$EnvironmentSatisfaction==3)]<-'High'\n",
    "hrdata$EnvironmentSatisfaction[which(hrdata$EnvironmentSatisfaction==4)]<-'Very High'\n",
    "hrdata$JobInvolvement[which(hrdata$JobInvolvement==1)]<-'Low'\n",
    "hrdata$JobInvolvement[which(hrdata$JobInvolvement==2)]<-'Medium'\n",
    "hrdata$JobInvolvement[which(hrdata$JobInvolvement==3)]<-'High'\n",
    "hrdata$JobInvolvement[which(hrdata$JobInvolvement==4)]<-'Very High'\n",
    "hrdata$JobSatisfaction[which(hrdata$JobSatisfaction==1)]<-'Low'\n",
    "hrdata$JobSatisfaction[which(hrdata$JobSatisfaction==2)]<-'Medium'\n",
    "hrdata$JobSatisfaction[which(hrdata$JobSatisfaction==3)]<-'High'\n",
    "hrdata$JobSatisfaction[which(hrdata$JobSatisfaction==4)]<-'Very High'\n",
    "hrdata$WorkLifeBalance[which(hrdata$WorkLifeBalance==1)]<-'Bad'\n",
    "hrdata$WorkLifeBalance[which(hrdata$WorkLifeBalance==2)]<-'Good'\n",
    "hrdata$WorkLifeBalance[which(hrdata$WorkLifeBalance==3)]<-'Better'\n",
    "hrdata$WorkLifeBalance[which(hrdata$WorkLifeBalance==4)]<-'Best'\n",
    "hrdata$PerformanceRating[which(hrdata$PerformanceRating==1)]<-'Low'\n",
    "hrdata$PerformanceRating[which(hrdata$PerformanceRating==2)]<-'Good'\n",
    "hrdata$PerformanceRating[which(hrdata$PerformanceRating==3)]<-'Excellent'\n",
    "hrdata$PerformanceRating[which(hrdata$PerformanceRating==4)]<-'Outstanding'"
   ]
  },
  {
   "cell_type": "markdown",
   "id": "consecutive-singing",
   "metadata": {},
   "source": [
    "## Bi-Variate Analysis"
   ]
  },
  {
   "cell_type": "markdown",
   "id": "proud-serve",
   "metadata": {},
   "source": [
    "### Categorical Data\n",
    "\n",
    "We make barcharts to analyse input variables wrt Attrition."
   ]
  },
  {
   "cell_type": "code",
   "execution_count": 29,
   "id": "convertible-paper",
   "metadata": {
    "ExecuteTime": {
     "end_time": "2021-04-20T18:21:19.945846Z",
     "start_time": "2021-04-20T18:12:46.519Z"
    },
    "code_folding": []
   },
   "outputs": [],
   "source": [
    "# Barcharts for categorical features with stacked Attrition information\n",
    "bar_theme1<- theme(axis.text.x = element_text(angle = 90, hjust = 1, vjust = 0.5), legend.position=\"none\")"
   ]
  },
  {
   "cell_type": "code",
   "execution_count": 30,
   "id": "round-reservation",
   "metadata": {
    "ExecuteTime": {
     "end_time": "2021-04-20T18:21:36.342077Z",
     "start_time": "2021-04-20T18:12:46.588Z"
    }
   },
   "outputs": [
    {
     "data": {
      "image/png": "[encoded data removed]",
      "text/plain": [
       "plot without title"
      ]
     },
     "metadata": {},
     "output_type": "display_data"
    }
   ],
   "source": [
    "plot_grid(ggplot(hrdata, aes(x=factor(PerformanceRating),fill=Attrition))+ geom_bar(position =\"fill\"),ggplot(hrdata, aes(x=factor(JobRole),fill=Attrition))+ geom_bar(position =\"fill\")+bar_theme1,ggplot(hrdata, aes(x=factor(JobSatisfaction),fill=Attrition))+ geom_bar(position =\"fill\")+bar_theme1, align = \"h\") "
   ]
  },
  {
   "cell_type": "code",
   "execution_count": 31,
   "id": "hollywood-vienna",
   "metadata": {
    "ExecuteTime": {
     "end_time": "2021-04-20T18:21:52.555464Z",
     "start_time": "2021-04-20T18:12:46.654Z"
    }
   },
   "outputs": [
    {
     "data": {
      "image/png": "[encoded data removed]",
      "text/plain": [
       "plot without title"
      ]
     },
     "metadata": {},
     "output_type": "display_data"
    }
   ],
   "source": [
    "plot_grid(ggplot(hrdata, aes(x=factor(BusinessTravel),fill=Attrition))+ geom_bar(position =\"fill\") + bar_theme1,ggplot(hrdata, aes(x=factor(Department),fill=Attrition))+ geom_bar(position =\"fill\")+bar_theme1,ggplot(hrdata, aes(x=factor(EducationField),fill=Attrition))+ geom_bar(position =\"fill\")+bar_theme1,ggplot(hrdata, aes(x=factor(MaritalStatus),fill=Attrition))+ geom_bar(position =\"fill\")+bar_theme1,ggplot(hrdata, aes(x=factor(Gender),fill=Attrition))+ geom_bar(position =\"fill\")+ bar_theme1, align = \"h\") "
   ]
  },
  {
   "cell_type": "code",
   "execution_count": 32,
   "id": "formed-truck",
   "metadata": {
    "ExecuteTime": {
     "end_time": "2021-04-20T18:22:09.050559Z",
     "start_time": "2021-04-20T18:12:46.723Z"
    }
   },
   "outputs": [
    {
     "data": {
      "image/png": "[encoded data removed]",
      "text/plain": [
       "plot without title"
      ]
     },
     "metadata": {},
     "output_type": "display_data"
    }
   ],
   "source": [
    "plot_grid(ggplot(hrdata, aes(x=factor(EnvironmentSatisfaction),fill=Attrition))+ geom_bar(position =\"fill\")+ bar_theme1, ggplot(hrdata, aes(x=factor(emp_login_cat),fill=Attrition))+ geom_bar(position =\"fill\")+bar_theme1,ggplot(hrdata, aes(x=factor(Education),fill=Attrition))+ geom_bar(position =\"fill\")+bar_theme1,ggplot(hrdata, aes(x=factor(WorkLifeBalance),fill=Attrition))+ geom_bar(position =\"fill\")+bar_theme1,ggplot(hrdata, aes(x=factor(JobInvolvement),fill=Attrition))+ geom_bar(position =\"fill\")+bar_theme1,align = \"h\") "
   ]
  },
  {
   "cell_type": "markdown",
   "id": "outside-breathing",
   "metadata": {},
   "source": [
    "\n",
    "**Conclusion:**\n",
    "\n",
    "    If job involvement is low there is attrition.\n",
    "    If workbalancelife is bad there is attrition.\n",
    "    Low env. satisfaction causes attrition.\n",
    "    Also low job satisfaction causes attrition according to the graphs.\n",
    "    In performance rating, attrition is high on outstanding column.\n",
    "    In business travel, attrition is high on travel frequently column.\n",
    "    In department, there is a problem in hr.\n",
    "    In education, college column has the higher attrition.\n",
    "    In education field, attrition is high on human resources column.\n",
    "    In gender, male has the highest attirtion.\n",
    "    In job role, research direct. has the higest attrition.\n",
    "    In marital, single column has the highest attrition.\n",
    "    Employees who do overtime show very high attrition."
   ]
  },
  {
   "cell_type": "markdown",
   "id": "danish-federation",
   "metadata": {},
   "source": [
    "### Numeric Data\n",
    "\n",
    "We make density plots to analyse these."
   ]
  },
  {
   "cell_type": "code",
   "execution_count": 33,
   "id": "professional-viewer",
   "metadata": {
    "ExecuteTime": {
     "end_time": "2021-04-20T18:22:26.791957Z",
     "start_time": "2021-04-20T18:12:46.924Z"
    }
   },
   "outputs": [
    {
     "data": {
      "image/png": "[encoded data removed]",
      "text/plain": [
       "plot without title"
      ]
     },
     "metadata": {},
     "output_type": "display_data"
    }
   ],
   "source": [
    "plot_grid(ggplot(hrdata,aes(Age,fill=Attrition))+geom_density()+facet_grid(~Attrition), ggplot(hrdata,aes(YearsWithCurrManager,fill=Attrition))+geom_density()+facet_grid(~Attrition),ggplot(hrdata,aes(emp_avg_login,fill=Attrition))+geom_density()+facet_grid(~Attrition),ggplot(hrdata,aes(DistanceFromHome,fill=Attrition))+geom_density()+facet_grid(~Attrition), align='h')"
   ]
  },
  {
   "cell_type": "code",
   "execution_count": 34,
   "id": "supposed-oxygen",
   "metadata": {
    "ExecuteTime": {
     "end_time": "2021-04-20T18:22:44.822100Z",
     "start_time": "2021-04-20T18:12:46.999Z"
    }
   },
   "outputs": [
    {
     "data": {
      "image/png": "[encoded data removed]",
      "text/plain": [
       "plot without title"
      ]
     },
     "metadata": {},
     "output_type": "display_data"
    }
   ],
   "source": [
    "plot_grid(ggplot(hrdata,aes(JobLevel,fill=Attrition))+geom_density()+facet_grid(~Attrition), ggplot(hrdata,aes(StockOptionLevel,fill=Attrition))+geom_density()+facet_grid(~Attrition),ggplot(hrdata,aes(NumCompaniesWorked,fill=Attrition))+geom_density()+facet_grid(~Attrition),ggplot(hrdata,aes(PercentSalaryHike,fill=Attrition))+geom_density()+facet_grid(~Attrition), align='h')"
   ]
  },
  {
   "cell_type": "code",
   "execution_count": 35,
   "id": "opposed-religion",
   "metadata": {
    "ExecuteTime": {
     "end_time": "2021-04-20T18:23:02.980699Z",
     "start_time": "2021-04-20T18:12:47.090Z"
    }
   },
   "outputs": [
    {
     "data": {
      "image/png": "[encoded data removed]",
      "text/plain": [
       "plot without title"
      ]
     },
     "metadata": {},
     "output_type": "display_data"
    }
   ],
   "source": [
    "plot_grid(ggplot(hrdata,aes(TotalWorkingYears,fill=Attrition))+geom_density()+facet_grid(~Attrition), ggplot(hrdata,aes(YearsAtCompany,fill=Attrition))+geom_density()+facet_grid(~Attrition),ggplot(hrdata,aes(YearsSinceLastPromotion,fill=Attrition))+geom_density()+facet_grid(~Attrition),ggplot(hrdata,aes(TrainingTimesLastYear,fill=Attrition))+geom_density()+facet_grid(~Attrition), align='h')"
   ]
  },
  {
   "cell_type": "markdown",
   "id": "elder-heavy",
   "metadata": {},
   "source": [
    "**Conclusion:**\n",
    "\n",
    "  \n",
    "    We can see that younger people leave often compared to old people.\n",
    "    High age people are less likely to leave.\n",
    "    Employees which working less than 8 hours are more likely to stay in the company.\n",
    "    People new to their managers leave easily.\n",
    "    Those with Job Levels 1 and 2 ie low ranking jobs tend to leave easily.\n",
    "    Those with Stock Option Level 0 or 1 ie minimal or no stocks leave often.\n",
    "    People who have worked at less than 2 companies are more likely to quit.\n",
    "    So are those salary hike in the last year has been low.\n",
    "    Those who have been working for less than 10 years have high attrition rate.\n",
    "    Also, people who are new to the company tend to leave quicker.\n",
    "\n"
   ]
  },
  {
   "cell_type": "markdown",
   "id": "worldwide-dispatch",
   "metadata": {},
   "source": [
    "## Uni-Variate Analysis\n",
    "\n",
    "We plot bar graphs to analyse these"
   ]
  },
  {
   "cell_type": "markdown",
   "id": "perfect-tiffany",
   "metadata": {},
   "source": [
    "### Categorical Data"
   ]
  },
  {
   "cell_type": "code",
   "execution_count": 36,
   "id": "capable-master",
   "metadata": {
    "ExecuteTime": {
     "end_time": "2021-04-20T18:23:19.811924Z",
     "start_time": "2021-04-20T18:12:47.359Z"
    }
   },
   "outputs": [
    {
     "data": {
      "image/png": "[encoded data removed]",
      "text/plain": [
       "plot without title"
      ]
     },
     "metadata": {},
     "output_type": "display_data"
    }
   ],
   "source": [
    "plot_grid(ggplot(hrdata, aes(x=factor(PerformanceRating)))+ geom_bar(),ggplot(hrdata, aes(x=factor(JobRole)))+ geom_bar()+bar_theme1,ggplot(hrdata, aes(x=factor(JobSatisfaction)))+ geom_bar()+bar_theme1, align = \"h\") "
   ]
  },
  {
   "cell_type": "code",
   "execution_count": 37,
   "id": "improving-mother",
   "metadata": {
    "ExecuteTime": {
     "end_time": "2021-04-20T18:23:37.105509Z",
     "start_time": "2021-04-20T18:12:47.426Z"
    }
   },
   "outputs": [
    {
     "data": {
      "image/png": "[encoded data removed]",
      "text/plain": [
       "plot without title"
      ]
     },
     "metadata": {},
     "output_type": "display_data"
    }
   ],
   "source": [
    "plot_grid(ggplot(hrdata, aes(x=factor(BusinessTravel)))+ geom_bar() + bar_theme1,ggplot(hrdata, aes(x=factor(Department)))+ geom_bar()+bar_theme1,ggplot(hrdata, aes(x=factor(EducationField)))+ geom_bar()+bar_theme1,ggplot(hrdata, aes(x=factor(MaritalStatus)))+ geom_bar()+bar_theme1,ggplot(hrdata, aes(x=factor(Gender)))+ geom_bar()+ bar_theme1, align = \"h\") "
   ]
  },
  {
   "cell_type": "code",
   "execution_count": 38,
   "id": "irish-sleeve",
   "metadata": {
    "ExecuteTime": {
     "end_time": "2021-04-20T18:23:54.595721Z",
     "start_time": "2021-04-20T18:12:47.494Z"
    }
   },
   "outputs": [
    {
     "data": {
      "image/png": "[encoded data removed]",
      "text/plain": [
       "plot without title"
      ]
     },
     "metadata": {},
     "output_type": "display_data"
    }
   ],
   "source": [
    "plot_grid(ggplot(hrdata, aes(x=factor(EnvironmentSatisfaction)))+ geom_bar()+ bar_theme1, ggplot(hrdata, aes(x=factor(emp_login_cat)))+ geom_bar()+bar_theme1,ggplot(hrdata, aes(x=factor(Education)))+ geom_bar()+bar_theme1,ggplot(hrdata, aes(x=factor(WorkLifeBalance)))+ geom_bar()+bar_theme1,ggplot(hrdata, aes(x=factor(JobInvolvement)))+ geom_bar()+bar_theme1,align = \"h\") "
   ]
  },
  {
   "cell_type": "markdown",
   "id": "prime-multimedia",
   "metadata": {},
   "source": [
    "### Numeric Data\n",
    "\n",
    "We make histogram and boxplots for these."
   ]
  },
  {
   "cell_type": "code",
   "execution_count": 39,
   "id": "fresh-requirement",
   "metadata": {
    "ExecuteTime": {
     "end_time": "2021-04-20T18:24:11.396763Z",
     "start_time": "2021-04-20T18:12:47.628Z"
    }
   },
   "outputs": [
    {
     "data": {
      "image/png": "[encoded data removed]",
      "text/plain": [
       "plot without title"
      ]
     },
     "metadata": {},
     "output_type": "display_data"
    }
   ],
   "source": [
    "plot_grid(ggplot(hrdata, aes(Age))+ geom_histogram(binwidth = 10),ggplot(hrdata, aes(x=\"\",y=Age))+ geom_boxplot(width=0.1)+coord_flip(), align = \"v\",ncol = 1)\n"
   ]
  },
  {
   "cell_type": "markdown",
   "id": "radical-lesson",
   "metadata": {},
   "source": [
    "No outliers in Age variable"
   ]
  },
  {
   "cell_type": "code",
   "execution_count": 40,
   "id": "smart-mention",
   "metadata": {
    "ExecuteTime": {
     "end_time": "2021-04-20T18:24:28.296837Z",
     "start_time": "2021-04-20T18:12:47.762Z"
    }
   },
   "outputs": [
    {
     "data": {
      "image/png": "[encoded data removed]",
      "text/plain": [
       "plot without title"
      ]
     },
     "metadata": {},
     "output_type": "display_data"
    }
   ],
   "source": [
    "plot_grid(ggplot(hrdata, aes(DistanceFromHome))+ geom_histogram(binwidth = 10),ggplot(hrdata, aes(x=\"\",y=DistanceFromHome))+ geom_boxplot(width=0.1)+coord_flip(), align = \"v\",ncol = 1)"
   ]
  },
  {
   "cell_type": "markdown",
   "id": "absolute-daisy",
   "metadata": {},
   "source": [
    "No outliers in \"DistanceFromHome\" variable"
   ]
  },
  {
   "cell_type": "code",
   "execution_count": 41,
   "id": "designed-yahoo",
   "metadata": {
    "ExecuteTime": {
     "end_time": "2021-04-20T18:24:51.409361Z",
     "start_time": "2021-04-20T18:12:47.896Z"
    }
   },
   "outputs": [
    {
     "data": {
      "image/png": "[encoded data removed]",
      "text/plain": [
       "plot without title"
      ]
     },
     "metadata": {},
     "output_type": "display_data"
    }
   ],
   "source": [
    "plot_grid(ggplot(hrdata, aes(MonthlyIncome))+ geom_histogram(binwidth = 10),ggplot(hrdata, aes(x=\"\",y=MonthlyIncome))+ geom_boxplot(width=0.1)+coord_flip(), align = \"v\",ncol = 1)"
   ]
  },
  {
   "cell_type": "markdown",
   "id": "distributed-quarterly",
   "metadata": {
    "ExecuteTime": {
     "end_time": "2021-04-02T17:52:02.383460Z",
     "start_time": "2021-04-02T17:52:02.364Z"
    }
   },
   "source": [
    "Although there is a gradual increase in salary but outlier is available "
   ]
  },
  {
   "cell_type": "code",
   "execution_count": 42,
   "id": "suffering-feedback",
   "metadata": {
    "ExecuteTime": {
     "end_time": "2021-04-20T18:25:08.349276Z",
     "start_time": "2021-04-20T18:12:48.031Z"
    }
   },
   "outputs": [
    {
     "data": {
      "image/png": "[encoded data removed]",
      "text/plain": [
       "plot without title"
      ]
     },
     "metadata": {},
     "output_type": "display_data"
    }
   ],
   "source": [
    "plot_grid(ggplot(hrdata, aes(PercentSalaryHike))+ geom_histogram(binwidth = 10),ggplot(hrdata, aes(x=\"\",y=PercentSalaryHike))+ geom_boxplot(width=0.1)+coord_flip(), align = \"v\",ncol = 1)"
   ]
  },
  {
   "cell_type": "markdown",
   "id": "compressed-sitting",
   "metadata": {},
   "source": [
    "No outliers in \"PercentSalaryHike\" variable"
   ]
  },
  {
   "cell_type": "code",
   "execution_count": 43,
   "id": "rocky-citizen",
   "metadata": {
    "ExecuteTime": {
     "end_time": "2021-04-20T18:25:25.044612Z",
     "start_time": "2021-04-20T18:12:48.165Z"
    }
   },
   "outputs": [
    {
     "data": {
      "image/png": "[encoded data removed]",
      "text/plain": [
       "plot without title"
      ]
     },
     "metadata": {},
     "output_type": "display_data"
    }
   ],
   "source": [
    "plot_grid(ggplot(hrdata, aes(TotalWorkingYears))+ geom_histogram(binwidth = 10),ggplot(hrdata, aes(x=\"\",y=TotalWorkingYears))+ geom_boxplot(width=0.1)+coord_flip(), align = \"v\",ncol = 1)"
   ]
  },
  {
   "cell_type": "markdown",
   "id": "fitted-external",
   "metadata": {},
   "source": [
    "Outliers can be seen in boxplot for TotalWorkingYears"
   ]
  },
  {
   "cell_type": "code",
   "execution_count": 44,
   "id": "severe-surface",
   "metadata": {
    "ExecuteTime": {
     "end_time": "2021-04-20T18:25:41.575931Z",
     "start_time": "2021-04-20T18:12:48.299Z"
    }
   },
   "outputs": [
    {
     "data": {
      "image/png": "[encoded data removed]",
      "text/plain": [
       "plot without title"
      ]
     },
     "metadata": {},
     "output_type": "display_data"
    }
   ],
   "source": [
    "plot_grid(ggplot(hrdata, aes(YearsSinceLastPromotion))+ geom_histogram(binwidth = 10),ggplot(hrdata, aes(x=\"\",y=YearsSinceLastPromotion))+ geom_boxplot(width=0.1)+coord_flip(), align = \"v\",ncol = 1)"
   ]
  },
  {
   "cell_type": "markdown",
   "id": "arabic-audience",
   "metadata": {},
   "source": [
    "Outliers can be seen in boxplot for YearsSinceLastPromotion"
   ]
  },
  {
   "cell_type": "code",
   "execution_count": 45,
   "id": "marked-worcester",
   "metadata": {
    "ExecuteTime": {
     "end_time": "2021-04-20T18:25:58.294909Z",
     "start_time": "2021-04-20T18:12:48.433Z"
    }
   },
   "outputs": [
    {
     "data": {
      "image/png": "[encoded data removed]",
      "text/plain": [
       "plot without title"
      ]
     },
     "metadata": {},
     "output_type": "display_data"
    }
   ],
   "source": [
    "plot_grid(ggplot(hrdata, aes(YearsAtCompany))+ geom_histogram(binwidth = 10),ggplot(hrdata, aes(x=\"\",y=YearsAtCompany))+ geom_boxplot(width=0.1)+coord_flip(), align = \"v\",ncol = 1)"
   ]
  },
  {
   "cell_type": "markdown",
   "id": "sensitive-polymer",
   "metadata": {},
   "source": [
    "Outliers can be seen in boxplot"
   ]
  },
  {
   "cell_type": "code",
   "execution_count": 46,
   "id": "distinguished-football",
   "metadata": {
    "ExecuteTime": {
     "end_time": "2021-04-20T18:26:15.152722Z",
     "start_time": "2021-04-20T18:12:48.567Z"
    }
   },
   "outputs": [
    {
     "data": {
      "image/png": "[encoded data removed]",
      "text/plain": [
       "plot without title"
      ]
     },
     "metadata": {},
     "output_type": "display_data"
    }
   ],
   "source": [
    "plot_grid(ggplot(hrdata, aes(YearsWithCurrManager))+ geom_histogram(binwidth = 10),ggplot(hrdata, aes(x=\"\",y=YearsWithCurrManager))+ geom_boxplot(width=0.1)+coord_flip(), align = \"v\",ncol = 1)"
   ]
  },
  {
   "cell_type": "markdown",
   "id": "liked-bottom",
   "metadata": {},
   "source": [
    "Outliers can be seen in boxplot"
   ]
  },
  {
   "cell_type": "code",
   "execution_count": 47,
   "id": "technical-penguin",
   "metadata": {
    "ExecuteTime": {
     "end_time": "2021-04-20T18:26:31.535323Z",
     "start_time": "2021-04-20T18:12:48.703Z"
    }
   },
   "outputs": [
    {
     "data": {
      "image/png": "[encoded data removed]",
      "text/plain": [
       "plot without title"
      ]
     },
     "metadata": {},
     "output_type": "display_data"
    }
   ],
   "source": [
    "plot_grid(ggplot(hrdata, aes(emp_avg_login))+ geom_histogram(binwidth = 1),ggplot(hrdata, aes(x=\"\",y=emp_avg_login))+ geom_boxplot(width=0.1)+coord_flip(), align = \"v\",ncol = 1)"
   ]
  },
  {
   "cell_type": "markdown",
   "id": "8fbeebb7",
   "metadata": {},
   "source": [
    "No outliers can be seen in boxplot"
   ]
  },
  {
   "cell_type": "code",
   "execution_count": 48,
   "id": "golden-compound",
   "metadata": {
    "ExecuteTime": {
     "end_time": "2021-04-20T18:26:48.899252Z",
     "start_time": "2021-04-20T18:12:48.837Z"
    }
   },
   "outputs": [
    {
     "data": {
      "image/png": "[encoded data removed]",
      "text/plain": [
       "plot without title"
      ]
     },
     "metadata": {},
     "output_type": "display_data"
    }
   ],
   "source": [
    "plot_grid(ggplot(hrdata, aes(JobLevel))+ geom_histogram(binwidth = 1),ggplot(hrdata, aes(x=\"\",y=JobLevel))+ geom_boxplot(width=0.1)+coord_flip(), align = \"v\",ncol = 1)"
   ]
  },
  {
   "cell_type": "markdown",
   "id": "simplified-withdrawal",
   "metadata": {},
   "source": [
    "No Outliers can be seen in boxplot"
   ]
  },
  {
   "cell_type": "code",
   "execution_count": 49,
   "id": "naked-argument",
   "metadata": {
    "ExecuteTime": {
     "end_time": "2021-04-20T18:27:05.870069Z",
     "start_time": "2021-04-20T18:12:48.971Z"
    }
   },
   "outputs": [
    {
     "data": {
      "image/png": "[encoded data removed]",
      "text/plain": [
       "plot without title"
      ]
     },
     "metadata": {},
     "output_type": "display_data"
    }
   ],
   "source": [
    "plot_grid(ggplot(hrdata, aes(NumCompaniesWorked))+ geom_histogram(binwidth = 2),ggplot(hrdata, aes(x=\"\",y=NumCompaniesWorked))+ geom_boxplot(width=0.1)+coord_flip(), align = \"v\",ncol = 1)"
   ]
  },
  {
   "cell_type": "markdown",
   "id": "innovative-detector",
   "metadata": {},
   "source": [
    "Outliers can be seen in boxplot"
   ]
  },
  {
   "cell_type": "code",
   "execution_count": 50,
   "id": "biblical-madison",
   "metadata": {
    "ExecuteTime": {
     "end_time": "2021-04-20T18:27:22.112607Z",
     "start_time": "2021-04-20T18:12:49.107Z"
    }
   },
   "outputs": [
    {
     "data": {
      "image/png": "[encoded data removed]",
      "text/plain": [
       "plot without title"
      ]
     },
     "metadata": {},
     "output_type": "display_data"
    }
   ],
   "source": [
    "plot_grid(ggplot(hrdata, aes(StockOptionLevel))+ geom_histogram(binwidth = 1),ggplot(hrdata, aes(x=\"\",y=StockOptionLevel))+ geom_boxplot(width=0.1)+coord_flip(), align = \"v\",ncol = 1)"
   ]
  },
  {
   "cell_type": "markdown",
   "id": "average-heavy",
   "metadata": {},
   "source": [
    "Outliers can be seen in boxplot"
   ]
  },
  {
   "cell_type": "code",
   "execution_count": 51,
   "id": "secret-filter",
   "metadata": {
    "ExecuteTime": {
     "end_time": "2021-04-20T18:27:38.352964Z",
     "start_time": "2021-04-20T18:12:49.240Z"
    }
   },
   "outputs": [
    {
     "data": {
      "image/png": "[encoded data removed]",
      "text/plain": [
       "plot without title"
      ]
     },
     "metadata": {},
     "output_type": "display_data"
    }
   ],
   "source": [
    "plot_grid(ggplot(hrdata, aes(TrainingTimesLastYear))+ geom_histogram(binwidth = 2),ggplot(hrdata, aes(x=\"\",y=TrainingTimesLastYear))+ geom_boxplot(width=0.1)+coord_flip(), align = \"v\",ncol = 1)\n",
    "#Outliers can be seen in boxplot"
   ]
  },
  {
   "cell_type": "markdown",
   "id": "mounted-doctor",
   "metadata": {
    "ExecuteTime": {
     "end_time": "2021-04-02T16:26:02.241896Z",
     "start_time": "2021-04-02T16:25:03.325Z"
    }
   },
   "source": [
    "Outliers can be seen in boxplot"
   ]
  },
  {
   "cell_type": "markdown",
   "id": "authorized-blind",
   "metadata": {},
   "source": [
    "## Outlier treatment\n",
    "\n",
    "Removing outliers for few variables from the data set as seen from the boxplots."
   ]
  },
  {
   "cell_type": "code",
   "execution_count": 52,
   "id": "worth-playback",
   "metadata": {
    "ExecuteTime": {
     "end_time": "2021-04-20T18:27:53.981032Z",
     "start_time": "2021-04-20T18:12:49.441Z"
    }
   },
   "outputs": [],
   "source": [
    "box <- boxplot.stats(hrdata$YearsAtCompany)\n",
    "out <- box$out\n",
    "ad1 <- hrdata[ !hrdata$YearsAtCompany %in% out, ]\n",
    "hrdata <- ad1\n",
    "box <- boxplot.stats(hrdata$NumCompaniesWorked)\n",
    "out <- box$out\n",
    "ad1 <- hrdata[ !hrdata$NumCompaniesWorked %in% out, ]\n",
    "hrdata <- ad1\n",
    "box <- boxplot.stats(hrdata$StockOptionLevel)\n",
    "out <- box$out\n",
    "ad1 <- hrdata[ !hrdata$StockOptionLevel %in% out, ]\n",
    "hrdata <- ad1\n",
    "box <- boxplot.stats(hrdata$TotalWorkingYears)\n",
    "out <- box$out\n",
    "ad1 <- hrdata[ !hrdata$TotalWorkingYears %in% out, ]\n",
    "hrdata <- ad1\n",
    "box <- boxplot.stats(hrdata$TrainingTimesLastYear)\n",
    "out <- box$out\n",
    "ad1 <- hrdata[ !hrdata$TrainingTimesLastYear %in% out, ]\n",
    "hrdata <- ad1\n",
    "box <- boxplot.stats(hrdata$YearsSinceLastPromotion)\n",
    "out <- box$out\n",
    "ad1 <- hrdata[ !hrdata$YearsSinceLastPromotion %in% out, ]\n",
    "hrdata <- ad1\n",
    "box <- boxplot.stats(hrdata$YearsWithCurrManager)\n",
    "out <- box$out\n",
    "ad1 <- hrdata[ !hrdata$YearsWithCurrManager %in% out, ]\n",
    "hrdata <- ad1"
   ]
  },
  {
   "cell_type": "code",
   "execution_count": 53,
   "id": "entitled-kuwait",
   "metadata": {
    "ExecuteTime": {
     "end_time": "2021-04-20T18:28:09.649465Z",
     "start_time": "2021-04-20T18:12:49.508Z"
    }
   },
   "outputs": [
    {
     "name": "stdout",
     "output_type": "stream",
     "text": [
      "'data.frame':\t890 obs. of  28 variables:\n",
      " $ EmployeeID             : int  1254 2671 591 2874 330 4134 744 1594 4360 2216 ...\n",
      " $ Age                    : int  27 35 35 27 52 38 37 30 36 25 ...\n",
      " $ Attrition              : chr  \"No\" \"No\" \"No\" \"No\" ...\n",
      " $ BusinessTravel         : chr  \"Travel_Rarely\" \"Travel_Rarely\" \"Travel_Frequently\" \"Travel_Rarely\" ...\n",
      " $ Department             : chr  \"Sales\" \"Human Resources\" \"Research & Development\" \"Sales\" ...\n",
      " $ DistanceFromHome       : int  8 14 3 15 29 23 20 3 1 1 ...\n",
      " $ Education              : chr  \"College\" \"Below College\" \"Bachelor\" \"Bachelor\" ...\n",
      " $ EducationField         : chr  \"Marketing\" \"Life Sciences\" \"Medical\" \"Marketing\" ...\n",
      " $ Gender                 : chr  \"Female\" \"Male\" \"Female\" \"Male\" ...\n",
      " $ JobLevel               : int  3 2 2 1 2 3 2 2 2 2 ...\n",
      " $ JobRole                : chr  \"Research Scientist\" \"Research Scientist\" \"Laboratory Technician\" \"Research Scientist\" ...\n",
      " $ MaritalStatus          : chr  \"Divorced\" \"Married\" \"Married\" \"Single\" ...\n",
      " $ MonthlyIncome          : int  45990 79880 22580 39860 29420 39040 68040 59680 23050 25000 ...\n",
      " $ NumCompaniesWorked     : int  1 1 1 1 8 1 4 1 1 4 ...\n",
      " $ PercentSalaryHike      : int  15 18 11 12 11 22 13 13 17 14 ...\n",
      " $ StockOptionLevel       : int  1 0 1 2 1 0 1 0 0 2 ...\n",
      " $ TotalWorkingYears      : int  1 4 2 7 9 10 8 1 8 7 ...\n",
      " $ TrainingTimesLastYear  : int  3 3 2 3 1 3 1 3 3 2 ...\n",
      " $ YearsAtCompany         : int  1 4 2 7 5 10 3 1 8 3 ...\n",
      " $ YearsSinceLastPromotion: int  0 1 2 0 1 1 0 0 1 0 ...\n",
      " $ YearsWithCurrManager   : int  0 1 2 3 4 9 2 0 7 2 ...\n",
      " $ EnvironmentSatisfaction: chr  \"Very High\" \"High\" \"Very High\" \"Very High\" ...\n",
      " $ JobSatisfaction        : chr  \"Low\" \"Very High\" \"Very High\" \"Medium\" ...\n",
      " $ WorkLifeBalance        : chr  \"Better\" \"Better\" \"Best\" \"Good\" ...\n",
      " $ JobInvolvement         : chr  \"Medium\" \"High\" \"High\" \"High\" ...\n",
      " $ PerformanceRating      : chr  \"Excellent\" \"Excellent\" \"Excellent\" \"Excellent\" ...\n",
      " $ emp_avg_login          : num  8 7 8 8 6 7 8 7 7 8 ...\n",
      " $ emp_login_cat          : chr  \"regular\" \"early logout\" \"regular\" \"regular\" ...\n"
     ]
    }
   ],
   "source": [
    "str(hrdata) "
   ]
  },
  {
   "cell_type": "code",
   "execution_count": 54,
   "id": "1bf85f80",
   "metadata": {
    "ExecuteTime": {
     "end_time": "2021-04-20T18:28:26.660828Z",
     "start_time": "2021-04-20T18:12:49.575Z"
    }
   },
   "outputs": [
    {
     "data": {
      "text/plain": [
       "\n",
       " No Yes \n",
       "450 440 "
      ]
     },
     "metadata": {},
     "output_type": "display_data"
    }
   ],
   "source": [
    "table(hrdata$Attrition)"
   ]
  },
  {
   "cell_type": "markdown",
   "id": "czech-tuition",
   "metadata": {},
   "source": [
    "## Data preprocessing - 2"
   ]
  },
  {
   "cell_type": "code",
   "execution_count": 55,
   "id": "cleared-cherry",
   "metadata": {
    "ExecuteTime": {
     "end_time": "2021-04-20T18:28:44.931561Z",
     "start_time": "2021-04-20T18:12:49.710Z"
    }
   },
   "outputs": [
    {
     "data": {
      "text/html": [
       "0.49438202247191"
      ],
      "text/latex": [
       "0.49438202247191"
      ],
      "text/markdown": [
       "0.49438202247191"
      ],
      "text/plain": [
       "[1] 0.494382"
      ]
     },
     "metadata": {},
     "output_type": "display_data"
    }
   ],
   "source": [
    "#Converting specific columns to factors \n",
    "hrdata$EmployeeID<-as.factor(hrdata$EmployeeID)\n",
    "\n",
    "#Feature scaling\n",
    "num_var<-sapply(hrdata, is.numeric)\n",
    "hrdata[num_var]<-lapply(hrdata[num_var], scale)\n",
    "hrdata$EmployeeID<-as.numeric(hrdata$EmployeeID)\n",
    "\n",
    "\n",
    "# converting target variable Attrition from No/Yes character to factor with levels 0/1 \n",
    "hrdata$Attrition<- ifelse(hrdata$Attrition==\"Yes\",1,0)\n",
    "\n",
    "# Checking Attrition rate of prospect employee\n",
    "Attritionrate <- sum(hrdata$Attrition)/nrow(hrdata)\n",
    "Attritionrate   "
   ]
  },
  {
   "cell_type": "markdown",
   "id": "suspended-bangkok",
   "metadata": {},
   "source": [
    "49.4% Attrition rate. Hence our data is quite balanced now."
   ]
  },
  {
   "cell_type": "code",
   "execution_count": 56,
   "id": "sudden-beatles",
   "metadata": {
    "ExecuteTime": {
     "end_time": "2021-04-20T18:29:01.922395Z",
     "start_time": "2021-04-20T18:12:49.845Z"
    }
   },
   "outputs": [],
   "source": [
    "#One hot encoding\n",
    "\n",
    "#Creating categorical subset from the dataset\n",
    "Cat_var<- hrdata[, c(\"Education\",\"BusinessTravel\", \"EnvironmentSatisfaction\", \"Department\", \"EducationField\",\"Gender\",\"JobRole\",\"MaritalStatus\", \"JobSatisfaction\",\"WorkLifeBalance\", \"JobInvolvement\", \"PerformanceRating\", \"emp_login_cat\")]\n",
    "\n",
    "\n",
    "# converting categorical attributes to factor\n",
    "hrdata_factor<- data.frame(sapply(Cat_var, function(x) factor(x)))"
   ]
  },
  {
   "cell_type": "code",
   "execution_count": 57,
   "id": "apart-mediterranean",
   "metadata": {
    "ExecuteTime": {
     "end_time": "2021-04-20T18:29:18.390631Z",
     "start_time": "2021-04-20T18:12:49.912Z"
    }
   },
   "outputs": [],
   "source": [
    "#creating dummy variables for factor attributes\n",
    "dummies<- data.frame(sapply(hrdata_factor, function(x) data.frame(model.matrix(~x-1,data =hrdata_factor))))\n",
    "\n",
    "\n",
    "#combining the final dataset\n",
    "hrdata<-hrdata[, !(names(hrdata)) %in% c( \"Education\",\"BusinessTravel\", \"EnvironmentSatisfaction\", \"Department\", \"EducationField\",\"Gender\",\"JobRole\",\"MaritalStatus\",  \"JobSatisfaction\",\"WorkLifeBalance\", \"JobInvolvement\", \"PerformanceRating\", \"emp_login_cat\",\"EmployeeID\")]\n",
    "\n",
    "hrdata_final<-cbind(hrdata,dummies)"
   ]
  },
  {
   "cell_type": "code",
   "execution_count": 58,
   "id": "political-nigeria",
   "metadata": {
    "ExecuteTime": {
     "end_time": "2021-04-20T18:29:35.782149Z",
     "start_time": "2021-04-20T18:12:49.979Z"
    }
   },
   "outputs": [
    {
     "name": "stdout",
     "output_type": "stream",
     "text": [
      "'data.frame':\t890 obs. of  66 variables:\n",
      " $ Age                               : num [1:890, 1] -0.783 0.121 0.121 -0.783 2.042 ...\n",
      "  ..- attr(*, \"scaled:center\")= num 33.9\n",
      "  ..- attr(*, \"scaled:scale\")= num 8.85\n",
      " $ Attrition                         : num  0 0 0 0 0 0 0 0 0 0 ...\n",
      " $ DistanceFromHome                  : num [1:890, 1] -0.0777 0.7108 -0.7347 0.8422 2.6818 ...\n",
      "  ..- attr(*, \"scaled:center\")= num 8.59\n",
      "  ..- attr(*, \"scaled:scale\")= num 7.61\n",
      " $ JobLevel                          : num [1:890, 1] 0.8752 -0.0543 -0.0543 -0.9838 -0.0543 ...\n",
      "  ..- attr(*, \"scaled:center\")= num 2.06\n",
      "  ..- attr(*, \"scaled:scale\")= num 1.08\n",
      " $ MonthlyIncome                     : num [1:890, 1] -0.399 0.348 -0.916 -0.535 -0.765 ...\n",
      "  ..- attr(*, \"scaled:center\")= num 64096\n",
      "  ..- attr(*, \"scaled:scale\")= num 45329\n",
      " $ NumCompaniesWorked                : num [1:890, 1] -0.689 -0.689 -0.689 -0.689 2.33 ...\n",
      "  ..- attr(*, \"scaled:center\")= num 2.6\n",
      "  ..- attr(*, \"scaled:scale\")= num 2.32\n",
      " $ PercentSalaryHike                 : num [1:890, 1] -0.115 0.692 -1.192 -0.923 -1.192 ...\n",
      "  ..- attr(*, \"scaled:center\")= num 15.4\n",
      "  ..- attr(*, \"scaled:scale\")= num 3.72\n",
      " $ StockOptionLevel                  : num [1:890, 1] 0.502 -0.963 0.502 1.966 0.502 ...\n",
      "  ..- attr(*, \"scaled:center\")= num 0.657\n",
      "  ..- attr(*, \"scaled:scale\")= num 0.683\n",
      " $ TotalWorkingYears                 : num [1:890, 1] -1.28 -0.71 -1.09 -0.141 0.238 ...\n",
      "  ..- attr(*, \"scaled:center\")= num 7.74\n",
      "  ..- attr(*, \"scaled:scale\")= num 5.27\n",
      " $ TrainingTimesLastYear             : num [1:890, 1] 0.643 0.643 -0.739 0.643 -2.121 ...\n",
      "  ..- attr(*, \"scaled:center\")= num 2.53\n",
      "  ..- attr(*, \"scaled:scale\")= num 0.724\n",
      " $ YearsAtCompany                    : num [1:890, 1] -0.9523 -0.0636 -0.6561 0.8251 0.2327 ...\n",
      "  ..- attr(*, \"scaled:center\")= num 4.21\n",
      "  ..- attr(*, \"scaled:scale\")= num 3.38\n",
      " $ YearsSinceLastPromotion           : num [1:890, 1] -0.719 0.181 1.081 -0.719 0.181 ...\n",
      "  ..- attr(*, \"scaled:center\")= num 0.799\n",
      "  ..- attr(*, \"scaled:scale\")= num 1.11\n",
      " $ YearsWithCurrManager              : num [1:890, 1] -0.979 -0.601 -0.223 0.155 0.533 ...\n",
      "  ..- attr(*, \"scaled:center\")= num 2.59\n",
      "  ..- attr(*, \"scaled:scale\")= num 2.64\n",
      " $ emp_avg_login                     : num [1:890, 1] 0.0746 -0.6172 0.0746 0.0746 -1.3089 ...\n",
      "  ..- attr(*, \"scaled:center\")= num 7.89\n",
      "  ..- attr(*, \"scaled:scale\")= num 1.45\n",
      " $ Education.xBachelor               : num  0 0 1 1 1 1 0 1 1 0 ...\n",
      " $ Education.xBelow.College          : num  0 1 0 0 0 0 0 0 0 0 ...\n",
      " $ Education.xCollege                : num  1 0 0 0 0 0 0 0 0 0 ...\n",
      " $ Education.xDoctor                 : num  0 0 0 0 0 0 1 0 0 0 ...\n",
      " $ Education.xMaster                 : num  0 0 0 0 0 0 0 0 0 1 ...\n",
      " $ BusinessTravel.xNon.Travel        : num  0 0 0 0 0 0 0 0 0 0 ...\n",
      " $ BusinessTravel.xTravel_Frequently : num  0 0 1 0 0 0 0 0 1 0 ...\n",
      " $ BusinessTravel.xTravel_Rarely     : num  1 1 0 1 1 1 1 1 0 1 ...\n",
      " $ EnvironmentSatisfaction.xHigh     : num  0 1 0 0 0 0 0 1 0 0 ...\n",
      " $ EnvironmentSatisfaction.xLow      : num  0 0 0 0 0 1 1 0 0 1 ...\n",
      " $ EnvironmentSatisfaction.xMedium   : num  0 0 0 0 0 0 0 0 1 0 ...\n",
      " $ EnvironmentSatisfaction.xVery.High: num  1 0 1 1 1 0 0 0 0 0 ...\n",
      " $ Department.xHuman.Resources       : num  0 1 0 0 0 0 0 0 0 0 ...\n",
      " $ Department.xResearch...Development: num  0 0 1 0 1 1 1 1 1 1 ...\n",
      " $ Department.xSales                 : num  1 0 0 1 0 0 0 0 0 0 ...\n",
      " $ EducationField.xHuman.Resources   : num  0 0 0 0 0 0 0 0 0 0 ...\n",
      " $ EducationField.xLife.Sciences     : num  0 1 0 0 1 0 1 1 1 0 ...\n",
      " $ EducationField.xMarketing         : num  1 0 0 1 0 0 0 0 0 0 ...\n",
      " $ EducationField.xMedical           : num  0 0 1 0 0 1 0 0 0 1 ...\n",
      " $ EducationField.xOther             : num  0 0 0 0 0 0 0 0 0 0 ...\n",
      " $ EducationField.xTechnical.Degree  : num  0 0 0 0 0 0 0 0 0 0 ...\n",
      " $ Gender.xFemale                    : num  1 0 1 0 0 0 0 1 1 0 ...\n",
      " $ Gender.xMale                      : num  0 1 0 1 1 1 1 0 0 1 ...\n",
      " $ JobRole.xHealthcare.Representative: num  0 0 0 0 0 0 0 0 0 0 ...\n",
      " $ JobRole.xHuman.Resources          : num  0 0 0 0 0 0 0 0 0 0 ...\n",
      " $ JobRole.xLaboratory.Technician    : num  0 0 1 0 0 0 0 0 1 0 ...\n",
      " $ JobRole.xManager                  : num  0 0 0 0 0 0 1 1 0 0 ...\n",
      " $ JobRole.xManufacturing.Director   : num  0 0 0 0 1 0 0 0 0 0 ...\n",
      " $ JobRole.xResearch.Director        : num  0 0 0 0 0 0 0 0 0 0 ...\n",
      " $ JobRole.xResearch.Scientist       : num  1 1 0 1 0 0 0 0 0 0 ...\n",
      " $ JobRole.xSales.Executive          : num  0 0 0 0 0 0 0 0 0 1 ...\n",
      " $ JobRole.xSales.Representative     : num  0 0 0 0 0 1 0 0 0 0 ...\n",
      " $ MaritalStatus.xDivorced           : num  1 0 0 0 0 0 0 0 0 0 ...\n",
      " $ MaritalStatus.xMarried            : num  0 1 1 0 1 1 0 1 0 1 ...\n",
      " $ MaritalStatus.xSingle             : num  0 0 0 1 0 0 1 0 1 0 ...\n",
      " $ JobSatisfaction.xHigh             : num  0 0 0 0 1 0 1 0 0 0 ...\n",
      " $ JobSatisfaction.xLow              : num  1 0 0 0 0 0 0 0 0 0 ...\n",
      " $ JobSatisfaction.xMedium           : num  0 0 0 1 0 0 0 1 0 0 ...\n",
      " $ JobSatisfaction.xVery.High        : num  0 1 1 0 0 1 0 0 1 1 ...\n",
      " $ WorkLifeBalance.xBad              : num  0 0 0 0 0 0 0 0 0 0 ...\n",
      " $ WorkLifeBalance.xBest             : num  0 0 1 0 0 0 0 0 0 0 ...\n",
      " $ WorkLifeBalance.xBetter           : num  1 1 0 0 1 1 1 1 1 0 ...\n",
      " $ WorkLifeBalance.xGood             : num  0 0 0 1 0 0 0 0 0 1 ...\n",
      " $ JobInvolvement.xHigh              : num  0 1 1 1 0 0 1 1 1 0 ...\n",
      " $ JobInvolvement.xLow               : num  0 0 0 0 0 0 0 0 0 1 ...\n",
      " $ JobInvolvement.xMedium            : num  1 0 0 0 1 1 0 0 0 0 ...\n",
      " $ JobInvolvement.xVery.High         : num  0 0 0 0 0 0 0 0 0 0 ...\n",
      " $ PerformanceRating.xExcellent      : num  1 1 1 1 1 0 1 1 1 1 ...\n",
      " $ PerformanceRating.xOutstanding    : num  0 0 0 0 0 1 0 0 0 0 ...\n",
      " $ emp_login_cat.xearly.logout       : num  0 1 0 0 1 1 0 1 1 0 ...\n",
      " $ emp_login_cat.xovertime           : num  0 0 0 0 0 0 0 0 0 0 ...\n",
      " $ emp_login_cat.xregular            : num  1 0 1 1 0 0 1 0 0 1 ...\n"
     ]
    }
   ],
   "source": [
    "str(hrdata_final) #2228 obs. of 66 variables"
   ]
  },
  {
   "cell_type": "markdown",
   "id": "valuable-occurrence",
   "metadata": {},
   "source": [
    "## Pearson's Correlation coefficient"
   ]
  },
  {
   "cell_type": "code",
   "execution_count": 59,
   "id": "6d1bc5b4",
   "metadata": {
    "ExecuteTime": {
     "end_time": "2021-04-20T18:29:52.725661Z",
     "start_time": "2021-04-20T18:12:50.112Z"
    }
   },
   "outputs": [
    {
     "data": {
      "text/plain": [
       "\n",
       "\tPearson's product-moment correlation\n",
       "\n",
       "data:  hrdata_final$Age and hrdata_final$Attrition\n",
       "t = -7.2108, df = 888, p-value = 1.19e-12\n",
       "alternative hypothesis: true correlation is not equal to 0\n",
       "95 percent confidence interval:\n",
       " -0.2963252 -0.1721369\n",
       "sample estimates:\n",
       "       cor \n",
       "-0.2351907 \n"
      ]
     },
     "metadata": {},
     "output_type": "display_data"
    }
   ],
   "source": [
    "cor.test(hrdata_final$Age,hrdata_final$Attrition, type = \"pearson\")"
   ]
  },
  {
   "cell_type": "code",
   "execution_count": 60,
   "id": "biblical-stereo",
   "metadata": {
    "ExecuteTime": {
     "end_time": "2021-04-20T18:30:09.804234Z",
     "start_time": "2021-04-20T18:12:50.181Z"
    }
   },
   "outputs": [],
   "source": [
    "res1 <- rcorr(as.matrix(hrdata_final), type = \"pearson\")"
   ]
  },
  {
   "cell_type": "code",
   "execution_count": 61,
   "id": "worth-clearing",
   "metadata": {
    "ExecuteTime": {
     "end_time": "2021-04-20T18:30:27.557347Z",
     "start_time": "2021-04-20T18:12:50.247Z"
    }
   },
   "outputs": [
    {
     "data": {
      "text/html": [
       "<dl class=dl-horizontal>\n",
       "\t<dt>Age</dt>\n",
       "\t\t<dd>-0.235190723741097</dd>\n",
       "\t<dt>Attrition</dt>\n",
       "\t\t<dd>1</dd>\n",
       "\t<dt>DistanceFromHome</dt>\n",
       "\t\t<dd>-0.0602902864041887</dd>\n",
       "\t<dt>JobLevel</dt>\n",
       "\t\t<dd>-0.0182001295166703</dd>\n",
       "\t<dt>MonthlyIncome</dt>\n",
       "\t\t<dd>0.00280860260436071</dd>\n",
       "\t<dt>NumCompaniesWorked</dt>\n",
       "\t\t<dd>0.0407175609613002</dd>\n",
       "\t<dt>PercentSalaryHike</dt>\n",
       "\t\t<dd>0.0224700806843656</dd>\n",
       "\t<dt>StockOptionLevel</dt>\n",
       "\t\t<dd>0.0256421916370014</dd>\n",
       "\t<dt>TotalWorkingYears</dt>\n",
       "\t\t<dd>-0.263095621171621</dd>\n",
       "\t<dt>TrainingTimesLastYear</dt>\n",
       "\t\t<dd>0.0331721317096757</dd>\n",
       "\t<dt>YearsAtCompany</dt>\n",
       "\t\t<dd>-0.323356330090004</dd>\n",
       "\t<dt>YearsSinceLastPromotion</dt>\n",
       "\t\t<dd>-0.100210632432455</dd>\n",
       "\t<dt>YearsWithCurrManager</dt>\n",
       "\t\t<dd>-0.305767285553393</dd>\n",
       "\t<dt>emp_avg_login</dt>\n",
       "\t\t<dd>0.237158606090165</dd>\n",
       "\t<dt>Education.xBachelor</dt>\n",
       "\t\t<dd>-0.00744433530526435</dd>\n",
       "\t<dt>Education.xBelow.College</dt>\n",
       "\t\t<dd>-0.0353357441967246</dd>\n",
       "\t<dt>Education.xCollege</dt>\n",
       "\t\t<dd>0.0578764329550855</dd>\n",
       "\t<dt>Education.xDoctor</dt>\n",
       "\t\t<dd>0.0205199474595519</dd>\n",
       "\t<dt>Education.xMaster</dt>\n",
       "\t\t<dd>-0.0291620751604604</dd>\n",
       "\t<dt>BusinessTravel.xNon.Travel</dt>\n",
       "\t\t<dd>-0.0635038604726942</dd>\n",
       "\t<dt>BusinessTravel.xTravel_Frequently</dt>\n",
       "\t\t<dd>0.124474028050667</dd>\n",
       "\t<dt>BusinessTravel.xTravel_Rarely</dt>\n",
       "\t\t<dd>-0.0775556564080993</dd>\n",
       "\t<dt>EnvironmentSatisfaction.xHigh</dt>\n",
       "\t\t<dd>-0.0159108934170868</dd>\n",
       "\t<dt>EnvironmentSatisfaction.xLow</dt>\n",
       "\t\t<dd>0.0947738910207667</dd>\n",
       "\t<dt>EnvironmentSatisfaction.xMedium</dt>\n",
       "\t\t<dd>0.00844133016996949</dd>\n",
       "\t<dt>EnvironmentSatisfaction.xVery.High</dt>\n",
       "\t\t<dd>-0.0832431458815971</dd>\n",
       "\t<dt>Department.xHuman.Resources</dt>\n",
       "\t\t<dd>0.0951089751142819</dd>\n",
       "\t<dt>Department.xResearch...Development</dt>\n",
       "\t\t<dd>0.0173003406017966</dd>\n",
       "\t<dt>Department.xSales</dt>\n",
       "\t\t<dd>-0.0720723662988066</dd>\n",
       "\t<dt>EducationField.xHuman.Resources</dt>\n",
       "\t\t<dd>0.0725842949852041</dd>\n",
       "\t<dt>EducationField.xLife.Sciences</dt>\n",
       "\t\t<dd>0.105050690523294</dd>\n",
       "\t<dt>EducationField.xMarketing</dt>\n",
       "\t\t<dd>-0.0409552909718129</dd>\n",
       "\t<dt>EducationField.xMedical</dt>\n",
       "\t\t<dd>-0.0360684338766901</dd>\n",
       "\t<dt>EducationField.xOther</dt>\n",
       "\t\t<dd>-0.0469997228513571</dd>\n",
       "\t<dt>EducationField.xTechnical.Degree</dt>\n",
       "\t\t<dd>-0.108131563563808</dd>\n",
       "\t<dt>Gender.xFemale</dt>\n",
       "\t\t<dd>-0.0563144233960128</dd>\n",
       "\t<dt>Gender.xMale</dt>\n",
       "\t\t<dd>0.0563144233960128</dd>\n",
       "\t<dt>JobRole.xHealthcare.Representative</dt>\n",
       "\t\t<dd>-0.0769817892644033</dd>\n",
       "\t<dt>JobRole.xHuman.Resources</dt>\n",
       "\t\t<dd>0.0162628329826171</dd>\n",
       "\t<dt>JobRole.xLaboratory.Technician</dt>\n",
       "\t\t<dd>-0.0331234523578532</dd>\n",
       "\t<dt>JobRole.xManager</dt>\n",
       "\t\t<dd>-0.0248535406312082</dd>\n",
       "\t<dt>JobRole.xManufacturing.Director</dt>\n",
       "\t\t<dd>-0.00934773679740698</dd>\n",
       "\t<dt>JobRole.xResearch.Director</dt>\n",
       "\t\t<dd>0.0310967295549895</dd>\n",
       "\t<dt>JobRole.xResearch.Scientist</dt>\n",
       "\t\t<dd>0.0194907499359873</dd>\n",
       "\t<dt>JobRole.xSales.Executive</dt>\n",
       "\t\t<dd>0.0814278413025237</dd>\n",
       "\t<dt>JobRole.xSales.Representative</dt>\n",
       "\t\t<dd>-0.0407410862534427</dd>\n",
       "\t<dt>MaritalStatus.xDivorced</dt>\n",
       "\t\t<dd>-0.115028534168413</dd>\n",
       "\t<dt>MaritalStatus.xMarried</dt>\n",
       "\t\t<dd>-0.159595854991927</dd>\n",
       "\t<dt>MaritalStatus.xSingle</dt>\n",
       "\t\t<dd>0.249247353211919</dd>\n",
       "\t<dt>JobSatisfaction.xHigh</dt>\n",
       "\t\t<dd>0.0245181348502524</dd>\n",
       "\t<dt>JobSatisfaction.xLow</dt>\n",
       "\t\t<dd>0.173746838966117</dd>\n",
       "\t<dt>JobSatisfaction.xMedium</dt>\n",
       "\t\t<dd>-0.023124864503144</dd>\n",
       "\t<dt>JobSatisfaction.xVery.High</dt>\n",
       "\t\t<dd>-0.16845754352629</dd>\n",
       "\t<dt>WorkLifeBalance.xBad</dt>\n",
       "\t\t<dd>0.100882978133054</dd>\n",
       "\t<dt>WorkLifeBalance.xBest</dt>\n",
       "\t\t<dd>0.0594241322922499</dd>\n",
       "\t<dt>WorkLifeBalance.xBetter</dt>\n",
       "\t\t<dd>-0.0938716859733458</dd>\n",
       "\t<dt>WorkLifeBalance.xGood</dt>\n",
       "\t\t<dd>0.0090592012438161</dd>\n",
       "\t<dt>JobInvolvement.xHigh</dt>\n",
       "\t\t<dd>0.0150771633767704</dd>\n",
       "\t<dt>JobInvolvement.xLow</dt>\n",
       "\t\t<dd>0.0559510917880613</dd>\n",
       "\t<dt>JobInvolvement.xMedium</dt>\n",
       "\t\t<dd>-0.0259017035095308</dd>\n",
       "\t<dt>JobInvolvement.xVery.High</dt>\n",
       "\t\t<dd>-0.0292213335721282</dd>\n",
       "\t<dt>PerformanceRating.xExcellent</dt>\n",
       "\t\t<dd>-0.0170018836980505</dd>\n",
       "\t<dt>PerformanceRating.xOutstanding</dt>\n",
       "\t\t<dd>0.0170018836980505</dd>\n",
       "\t<dt>emp_login_cat.xearly.logout</dt>\n",
       "\t\t<dd>-0.238017638436102</dd>\n",
       "\t<dt>emp_login_cat.xovertime</dt>\n",
       "\t\t<dd>0.206758145320131</dd>\n",
       "\t<dt>emp_login_cat.xregular</dt>\n",
       "\t\t<dd>0.0557652937404814</dd>\n",
       "</dl>\n"
      ],
      "text/latex": [
       "\\begin{description*}\n",
       "\\item[Age] -0.235190723741097\n",
       "\\item[Attrition] 1\n",
       "\\item[DistanceFromHome] -0.0602902864041887\n",
       "\\item[JobLevel] -0.0182001295166703\n",
       "\\item[MonthlyIncome] 0.00280860260436071\n",
       "\\item[NumCompaniesWorked] 0.0407175609613002\n",
       "\\item[PercentSalaryHike] 0.0224700806843656\n",
       "\\item[StockOptionLevel] 0.0256421916370014\n",
       "\\item[TotalWorkingYears] -0.263095621171621\n",
       "\\item[TrainingTimesLastYear] 0.0331721317096757\n",
       "\\item[YearsAtCompany] -0.323356330090004\n",
       "\\item[YearsSinceLastPromotion] -0.100210632432455\n",
       "\\item[YearsWithCurrManager] -0.305767285553393\n",
       "\\item[emp\\textbackslash{}\\_avg\\textbackslash{}\\_login] 0.237158606090165\n",
       "\\item[Education.xBachelor] -0.00744433530526435\n",
       "\\item[Education.xBelow.College] -0.0353357441967246\n",
       "\\item[Education.xCollege] 0.0578764329550855\n",
       "\\item[Education.xDoctor] 0.0205199474595519\n",
       "\\item[Education.xMaster] -0.0291620751604604\n",
       "\\item[BusinessTravel.xNon.Travel] -0.0635038604726942\n",
       "\\item[BusinessTravel.xTravel\\textbackslash{}\\_Frequently] 0.124474028050667\n",
       "\\item[BusinessTravel.xTravel\\textbackslash{}\\_Rarely] -0.0775556564080993\n",
       "\\item[EnvironmentSatisfaction.xHigh] -0.0159108934170868\n",
       "\\item[EnvironmentSatisfaction.xLow] 0.0947738910207667\n",
       "\\item[EnvironmentSatisfaction.xMedium] 0.00844133016996949\n",
       "\\item[EnvironmentSatisfaction.xVery.High] -0.0832431458815971\n",
       "\\item[Department.xHuman.Resources] 0.0951089751142819\n",
       "\\item[Department.xResearch...Development] 0.0173003406017966\n",
       "\\item[Department.xSales] -0.0720723662988066\n",
       "\\item[EducationField.xHuman.Resources] 0.0725842949852041\n",
       "\\item[EducationField.xLife.Sciences] 0.105050690523294\n",
       "\\item[EducationField.xMarketing] -0.0409552909718129\n",
       "\\item[EducationField.xMedical] -0.0360684338766901\n",
       "\\item[EducationField.xOther] -0.0469997228513571\n",
       "\\item[EducationField.xTechnical.Degree] -0.108131563563808\n",
       "\\item[Gender.xFemale] -0.0563144233960128\n",
       "\\item[Gender.xMale] 0.0563144233960128\n",
       "\\item[JobRole.xHealthcare.Representative] -0.0769817892644033\n",
       "\\item[JobRole.xHuman.Resources] 0.0162628329826171\n",
       "\\item[JobRole.xLaboratory.Technician] -0.0331234523578532\n",
       "\\item[JobRole.xManager] -0.0248535406312082\n",
       "\\item[JobRole.xManufacturing.Director] -0.00934773679740698\n",
       "\\item[JobRole.xResearch.Director] 0.0310967295549895\n",
       "\\item[JobRole.xResearch.Scientist] 0.0194907499359873\n",
       "\\item[JobRole.xSales.Executive] 0.0814278413025237\n",
       "\\item[JobRole.xSales.Representative] -0.0407410862534427\n",
       "\\item[MaritalStatus.xDivorced] -0.115028534168413\n",
       "\\item[MaritalStatus.xMarried] -0.159595854991927\n",
       "\\item[MaritalStatus.xSingle] 0.249247353211919\n",
       "\\item[JobSatisfaction.xHigh] 0.0245181348502524\n",
       "\\item[JobSatisfaction.xLow] 0.173746838966117\n",
       "\\item[JobSatisfaction.xMedium] -0.023124864503144\n",
       "\\item[JobSatisfaction.xVery.High] -0.16845754352629\n",
       "\\item[WorkLifeBalance.xBad] 0.100882978133054\n",
       "\\item[WorkLifeBalance.xBest] 0.0594241322922499\n",
       "\\item[WorkLifeBalance.xBetter] -0.0938716859733458\n",
       "\\item[WorkLifeBalance.xGood] 0.0090592012438161\n",
       "\\item[JobInvolvement.xHigh] 0.0150771633767704\n",
       "\\item[JobInvolvement.xLow] 0.0559510917880613\n",
       "\\item[JobInvolvement.xMedium] -0.0259017035095308\n",
       "\\item[JobInvolvement.xVery.High] -0.0292213335721282\n",
       "\\item[PerformanceRating.xExcellent] -0.0170018836980505\n",
       "\\item[PerformanceRating.xOutstanding] 0.0170018836980505\n",
       "\\item[emp\\textbackslash{}\\_login\\textbackslash{}\\_cat.xearly.logout] -0.238017638436102\n",
       "\\item[emp\\textbackslash{}\\_login\\textbackslash{}\\_cat.xovertime] 0.206758145320131\n",
       "\\item[emp\\textbackslash{}\\_login\\textbackslash{}\\_cat.xregular] 0.0557652937404814\n",
       "\\end{description*}\n"
      ],
      "text/markdown": [
       "Age\n",
       ":   -0.235190723741097Attrition\n",
       ":   1DistanceFromHome\n",
       ":   -0.0602902864041887JobLevel\n",
       ":   -0.0182001295166703MonthlyIncome\n",
       ":   0.00280860260436071NumCompaniesWorked\n",
       ":   0.0407175609613002PercentSalaryHike\n",
       ":   0.0224700806843656StockOptionLevel\n",
       ":   0.0256421916370014TotalWorkingYears\n",
       ":   -0.263095621171621TrainingTimesLastYear\n",
       ":   0.0331721317096757YearsAtCompany\n",
       ":   -0.323356330090004YearsSinceLastPromotion\n",
       ":   -0.100210632432455YearsWithCurrManager\n",
       ":   -0.305767285553393emp_avg_login\n",
       ":   0.237158606090165Education.xBachelor\n",
       ":   -0.00744433530526435Education.xBelow.College\n",
       ":   -0.0353357441967246Education.xCollege\n",
       ":   0.0578764329550855Education.xDoctor\n",
       ":   0.0205199474595519Education.xMaster\n",
       ":   -0.0291620751604604BusinessTravel.xNon.Travel\n",
       ":   -0.0635038604726942BusinessTravel.xTravel_Frequently\n",
       ":   0.124474028050667BusinessTravel.xTravel_Rarely\n",
       ":   -0.0775556564080993EnvironmentSatisfaction.xHigh\n",
       ":   -0.0159108934170868EnvironmentSatisfaction.xLow\n",
       ":   0.0947738910207667EnvironmentSatisfaction.xMedium\n",
       ":   0.00844133016996949EnvironmentSatisfaction.xVery.High\n",
       ":   -0.0832431458815971Department.xHuman.Resources\n",
       ":   0.0951089751142819Department.xResearch...Development\n",
       ":   0.0173003406017966Department.xSales\n",
       ":   -0.0720723662988066EducationField.xHuman.Resources\n",
       ":   0.0725842949852041EducationField.xLife.Sciences\n",
       ":   0.105050690523294EducationField.xMarketing\n",
       ":   -0.0409552909718129EducationField.xMedical\n",
       ":   -0.0360684338766901EducationField.xOther\n",
       ":   -0.0469997228513571EducationField.xTechnical.Degree\n",
       ":   -0.108131563563808Gender.xFemale\n",
       ":   -0.0563144233960128Gender.xMale\n",
       ":   0.0563144233960128JobRole.xHealthcare.Representative\n",
       ":   -0.0769817892644033JobRole.xHuman.Resources\n",
       ":   0.0162628329826171JobRole.xLaboratory.Technician\n",
       ":   -0.0331234523578532JobRole.xManager\n",
       ":   -0.0248535406312082JobRole.xManufacturing.Director\n",
       ":   -0.00934773679740698JobRole.xResearch.Director\n",
       ":   0.0310967295549895JobRole.xResearch.Scientist\n",
       ":   0.0194907499359873JobRole.xSales.Executive\n",
       ":   0.0814278413025237JobRole.xSales.Representative\n",
       ":   -0.0407410862534427MaritalStatus.xDivorced\n",
       ":   -0.115028534168413MaritalStatus.xMarried\n",
       ":   -0.159595854991927MaritalStatus.xSingle\n",
       ":   0.249247353211919JobSatisfaction.xHigh\n",
       ":   0.0245181348502524JobSatisfaction.xLow\n",
       ":   0.173746838966117JobSatisfaction.xMedium\n",
       ":   -0.023124864503144JobSatisfaction.xVery.High\n",
       ":   -0.16845754352629WorkLifeBalance.xBad\n",
       ":   0.100882978133054WorkLifeBalance.xBest\n",
       ":   0.0594241322922499WorkLifeBalance.xBetter\n",
       ":   -0.0938716859733458WorkLifeBalance.xGood\n",
       ":   0.0090592012438161JobInvolvement.xHigh\n",
       ":   0.0150771633767704JobInvolvement.xLow\n",
       ":   0.0559510917880613JobInvolvement.xMedium\n",
       ":   -0.0259017035095308JobInvolvement.xVery.High\n",
       ":   -0.0292213335721282PerformanceRating.xExcellent\n",
       ":   -0.0170018836980505PerformanceRating.xOutstanding\n",
       ":   0.0170018836980505emp_login_cat.xearly.logout\n",
       ":   -0.238017638436102emp_login_cat.xovertime\n",
       ":   0.206758145320131emp_login_cat.xregular\n",
       ":   0.0557652937404814\n",
       "\n"
      ],
      "text/plain": [
       "                               Age                          Attrition \n",
       "                      -0.235190724                        1.000000000 \n",
       "                  DistanceFromHome                           JobLevel \n",
       "                      -0.060290286                       -0.018200130 \n",
       "                     MonthlyIncome                 NumCompaniesWorked \n",
       "                       0.002808603                        0.040717561 \n",
       "                 PercentSalaryHike                   StockOptionLevel \n",
       "                       0.022470081                        0.025642192 \n",
       "                 TotalWorkingYears              TrainingTimesLastYear \n",
       "                      -0.263095621                        0.033172132 \n",
       "                    YearsAtCompany            YearsSinceLastPromotion \n",
       "                      -0.323356330                       -0.100210632 \n",
       "              YearsWithCurrManager                      emp_avg_login \n",
       "                      -0.305767286                        0.237158606 \n",
       "               Education.xBachelor           Education.xBelow.College \n",
       "                      -0.007444335                       -0.035335744 \n",
       "                Education.xCollege                  Education.xDoctor \n",
       "                       0.057876433                        0.020519947 \n",
       "                 Education.xMaster         BusinessTravel.xNon.Travel \n",
       "                      -0.029162075                       -0.063503860 \n",
       " BusinessTravel.xTravel_Frequently      BusinessTravel.xTravel_Rarely \n",
       "                       0.124474028                       -0.077555656 \n",
       "     EnvironmentSatisfaction.xHigh       EnvironmentSatisfaction.xLow \n",
       "                      -0.015910893                        0.094773891 \n",
       "   EnvironmentSatisfaction.xMedium EnvironmentSatisfaction.xVery.High \n",
       "                       0.008441330                       -0.083243146 \n",
       "       Department.xHuman.Resources Department.xResearch...Development \n",
       "                       0.095108975                        0.017300341 \n",
       "                 Department.xSales    EducationField.xHuman.Resources \n",
       "                      -0.072072366                        0.072584295 \n",
       "     EducationField.xLife.Sciences          EducationField.xMarketing \n",
       "                       0.105050691                       -0.040955291 \n",
       "           EducationField.xMedical              EducationField.xOther \n",
       "                      -0.036068434                       -0.046999723 \n",
       "  EducationField.xTechnical.Degree                     Gender.xFemale \n",
       "                      -0.108131564                       -0.056314423 \n",
       "                      Gender.xMale JobRole.xHealthcare.Representative \n",
       "                       0.056314423                       -0.076981789 \n",
       "          JobRole.xHuman.Resources     JobRole.xLaboratory.Technician \n",
       "                       0.016262833                       -0.033123452 \n",
       "                  JobRole.xManager    JobRole.xManufacturing.Director \n",
       "                      -0.024853541                       -0.009347737 \n",
       "        JobRole.xResearch.Director        JobRole.xResearch.Scientist \n",
       "                       0.031096730                        0.019490750 \n",
       "          JobRole.xSales.Executive      JobRole.xSales.Representative \n",
       "                       0.081427841                       -0.040741086 \n",
       "           MaritalStatus.xDivorced             MaritalStatus.xMarried \n",
       "                      -0.115028534                       -0.159595855 \n",
       "             MaritalStatus.xSingle              JobSatisfaction.xHigh \n",
       "                       0.249247353                        0.024518135 \n",
       "              JobSatisfaction.xLow            JobSatisfaction.xMedium \n",
       "                       0.173746839                       -0.023124865 \n",
       "        JobSatisfaction.xVery.High               WorkLifeBalance.xBad \n",
       "                      -0.168457544                        0.100882978 \n",
       "             WorkLifeBalance.xBest            WorkLifeBalance.xBetter \n",
       "                       0.059424132                       -0.093871686 \n",
       "             WorkLifeBalance.xGood               JobInvolvement.xHigh \n",
       "                       0.009059201                        0.015077163 \n",
       "               JobInvolvement.xLow             JobInvolvement.xMedium \n",
       "                       0.055951092                       -0.025901704 \n",
       "         JobInvolvement.xVery.High       PerformanceRating.xExcellent \n",
       "                      -0.029221334                       -0.017001884 \n",
       "    PerformanceRating.xOutstanding        emp_login_cat.xearly.logout \n",
       "                       0.017001884                       -0.238017638 \n",
       "           emp_login_cat.xovertime             emp_login_cat.xregular \n",
       "                       0.206758145                        0.055765294 "
      ]
     },
     "metadata": {},
     "output_type": "display_data"
    }
   ],
   "source": [
    "as.matrix(res1[[1]])[, 2]"
   ]
  },
  {
   "cell_type": "markdown",
   "id": "capable-living",
   "metadata": {},
   "source": [
    "The following variables show significant negative correlation:\n",
    "\n",
    "    Age\n",
    "    TotalWorkingYears\n",
    "    YearsAtCompany\n",
    "    YearsSinceLastPromotion\n",
    "    YearsWithCurrManager\n",
    "    EducationField.xTechnical.Degree\n",
    "    MaritalStatus.xDivorced\n",
    "    MaritalStatus.xMarried\n",
    "    emp_login_cat.xearly.logout\n",
    "\n",
    "\n",
    "The following variables show significant positive correlation:\n",
    "\n",
    "    emp_avg_login\n",
    "    EducationField.xLife.Sciences\n",
    "    BusinessTravel.xTravel_Frequently\n",
    "    MaritalStatus.xSingle\n",
    "    JobSatisfaction.xLow\n",
    "    WorkLifeBalance.xBad\n",
    "    emp_login_cat.xovertime\n",
    " \n",
    "      "
   ]
  },
  {
   "cell_type": "markdown",
   "id": "herbal-constitution",
   "metadata": {},
   "source": [
    "## Spearman's Correlation coefficient"
   ]
  },
  {
   "cell_type": "code",
   "execution_count": 62,
   "id": "accepting-texture",
   "metadata": {
    "ExecuteTime": {
     "end_time": "2021-04-20T18:30:45.499633Z",
     "start_time": "2021-04-20T18:12:50.449Z"
    }
   },
   "outputs": [],
   "source": [
    "res2 <- rcorr(as.matrix(hrdata_final), type = \"spearman\")"
   ]
  },
  {
   "cell_type": "code",
   "execution_count": 63,
   "id": "seeing-negotiation",
   "metadata": {
    "ExecuteTime": {
     "end_time": "2021-04-20T18:31:03.067397Z",
     "start_time": "2021-04-20T18:12:50.518Z"
    }
   },
   "outputs": [
    {
     "data": {
      "text/html": [
       "<dl class=dl-horizontal>\n",
       "\t<dt>Age</dt>\n",
       "\t\t<dd>-0.244853467133861</dd>\n",
       "\t<dt>Attrition</dt>\n",
       "\t\t<dd>1</dd>\n",
       "\t<dt>DistanceFromHome</dt>\n",
       "\t\t<dd>-0.0379411659030321</dd>\n",
       "\t<dt>JobLevel</dt>\n",
       "\t\t<dd>-0.0177479061814085</dd>\n",
       "\t<dt>MonthlyIncome</dt>\n",
       "\t\t<dd>0.0348751440063626</dd>\n",
       "\t<dt>NumCompaniesWorked</dt>\n",
       "\t\t<dd>0.0390644387094864</dd>\n",
       "\t<dt>PercentSalaryHike</dt>\n",
       "\t\t<dd>0.0362641239536084</dd>\n",
       "\t<dt>StockOptionLevel</dt>\n",
       "\t\t<dd>0.0189098003574867</dd>\n",
       "\t<dt>TotalWorkingYears</dt>\n",
       "\t\t<dd>-0.287293706331171</dd>\n",
       "\t<dt>TrainingTimesLastYear</dt>\n",
       "\t\t<dd>0.0281560942913432</dd>\n",
       "\t<dt>YearsAtCompany</dt>\n",
       "\t\t<dd>-0.350163111485271</dd>\n",
       "\t<dt>YearsSinceLastPromotion</dt>\n",
       "\t\t<dd>-0.0725470215480871</dd>\n",
       "\t<dt>YearsWithCurrManager</dt>\n",
       "\t\t<dd>-0.328579217735697</dd>\n",
       "\t<dt>emp_avg_login</dt>\n",
       "\t\t<dd>0.245904016254428</dd>\n",
       "\t<dt>Education.xBachelor</dt>\n",
       "\t\t<dd>-0.00744433530526437</dd>\n",
       "\t<dt>Education.xBelow.College</dt>\n",
       "\t\t<dd>-0.0353357441967245</dd>\n",
       "\t<dt>Education.xCollege</dt>\n",
       "\t\t<dd>0.0578764329550855</dd>\n",
       "\t<dt>Education.xDoctor</dt>\n",
       "\t\t<dd>0.0205199474595519</dd>\n",
       "\t<dt>Education.xMaster</dt>\n",
       "\t\t<dd>-0.0291620751604603</dd>\n",
       "\t<dt>BusinessTravel.xNon.Travel</dt>\n",
       "\t\t<dd>-0.0635038604726942</dd>\n",
       "\t<dt>BusinessTravel.xTravel_Frequently</dt>\n",
       "\t\t<dd>0.124474028050667</dd>\n",
       "\t<dt>BusinessTravel.xTravel_Rarely</dt>\n",
       "\t\t<dd>-0.0775556564080993</dd>\n",
       "\t<dt>EnvironmentSatisfaction.xHigh</dt>\n",
       "\t\t<dd>-0.0159108934170868</dd>\n",
       "\t<dt>EnvironmentSatisfaction.xLow</dt>\n",
       "\t\t<dd>0.0947738910207667</dd>\n",
       "\t<dt>EnvironmentSatisfaction.xMedium</dt>\n",
       "\t\t<dd>0.0084413301699695</dd>\n",
       "\t<dt>EnvironmentSatisfaction.xVery.High</dt>\n",
       "\t\t<dd>-0.0832431458815972</dd>\n",
       "\t<dt>Department.xHuman.Resources</dt>\n",
       "\t\t<dd>0.0951089751142819</dd>\n",
       "\t<dt>Department.xResearch...Development</dt>\n",
       "\t\t<dd>0.0173003406017965</dd>\n",
       "\t<dt>Department.xSales</dt>\n",
       "\t\t<dd>-0.0720723662988066</dd>\n",
       "\t<dt>EducationField.xHuman.Resources</dt>\n",
       "\t\t<dd>0.0725842949852041</dd>\n",
       "\t<dt>EducationField.xLife.Sciences</dt>\n",
       "\t\t<dd>0.105050690523294</dd>\n",
       "\t<dt>EducationField.xMarketing</dt>\n",
       "\t\t<dd>-0.0409552909718129</dd>\n",
       "\t<dt>EducationField.xMedical</dt>\n",
       "\t\t<dd>-0.0360684338766901</dd>\n",
       "\t<dt>EducationField.xOther</dt>\n",
       "\t\t<dd>-0.0469997228513571</dd>\n",
       "\t<dt>EducationField.xTechnical.Degree</dt>\n",
       "\t\t<dd>-0.108131563563808</dd>\n",
       "\t<dt>Gender.xFemale</dt>\n",
       "\t\t<dd>-0.0563144233960128</dd>\n",
       "\t<dt>Gender.xMale</dt>\n",
       "\t\t<dd>0.0563144233960128</dd>\n",
       "\t<dt>JobRole.xHealthcare.Representative</dt>\n",
       "\t\t<dd>-0.0769817892644032</dd>\n",
       "\t<dt>JobRole.xHuman.Resources</dt>\n",
       "\t\t<dd>0.0162628329826171</dd>\n",
       "\t<dt>JobRole.xLaboratory.Technician</dt>\n",
       "\t\t<dd>-0.0331234523578532</dd>\n",
       "\t<dt>JobRole.xManager</dt>\n",
       "\t\t<dd>-0.0248535406312082</dd>\n",
       "\t<dt>JobRole.xManufacturing.Director</dt>\n",
       "\t\t<dd>-0.00934773679740697</dd>\n",
       "\t<dt>JobRole.xResearch.Director</dt>\n",
       "\t\t<dd>0.0310967295549895</dd>\n",
       "\t<dt>JobRole.xResearch.Scientist</dt>\n",
       "\t\t<dd>0.0194907499359872</dd>\n",
       "\t<dt>JobRole.xSales.Executive</dt>\n",
       "\t\t<dd>0.0814278413025237</dd>\n",
       "\t<dt>JobRole.xSales.Representative</dt>\n",
       "\t\t<dd>-0.0407410862534427</dd>\n",
       "\t<dt>MaritalStatus.xDivorced</dt>\n",
       "\t\t<dd>-0.115028534168413</dd>\n",
       "\t<dt>MaritalStatus.xMarried</dt>\n",
       "\t\t<dd>-0.159595854991927</dd>\n",
       "\t<dt>MaritalStatus.xSingle</dt>\n",
       "\t\t<dd>0.249247353211919</dd>\n",
       "\t<dt>JobSatisfaction.xHigh</dt>\n",
       "\t\t<dd>0.0245181348502524</dd>\n",
       "\t<dt>JobSatisfaction.xLow</dt>\n",
       "\t\t<dd>0.173746838966117</dd>\n",
       "\t<dt>JobSatisfaction.xMedium</dt>\n",
       "\t\t<dd>-0.023124864503144</dd>\n",
       "\t<dt>JobSatisfaction.xVery.High</dt>\n",
       "\t\t<dd>-0.16845754352629</dd>\n",
       "\t<dt>WorkLifeBalance.xBad</dt>\n",
       "\t\t<dd>0.100882978133054</dd>\n",
       "\t<dt>WorkLifeBalance.xBest</dt>\n",
       "\t\t<dd>0.05942413229225</dd>\n",
       "\t<dt>WorkLifeBalance.xBetter</dt>\n",
       "\t\t<dd>-0.0938716859733457</dd>\n",
       "\t<dt>WorkLifeBalance.xGood</dt>\n",
       "\t\t<dd>0.0090592012438161</dd>\n",
       "\t<dt>JobInvolvement.xHigh</dt>\n",
       "\t\t<dd>0.0150771633767704</dd>\n",
       "\t<dt>JobInvolvement.xLow</dt>\n",
       "\t\t<dd>0.0559510917880613</dd>\n",
       "\t<dt>JobInvolvement.xMedium</dt>\n",
       "\t\t<dd>-0.0259017035095308</dd>\n",
       "\t<dt>JobInvolvement.xVery.High</dt>\n",
       "\t\t<dd>-0.0292213335721282</dd>\n",
       "\t<dt>PerformanceRating.xExcellent</dt>\n",
       "\t\t<dd>-0.0170018836980504</dd>\n",
       "\t<dt>PerformanceRating.xOutstanding</dt>\n",
       "\t\t<dd>0.0170018836980504</dd>\n",
       "\t<dt>emp_login_cat.xearly.logout</dt>\n",
       "\t\t<dd>-0.238017638436102</dd>\n",
       "\t<dt>emp_login_cat.xovertime</dt>\n",
       "\t\t<dd>0.206758145320131</dd>\n",
       "\t<dt>emp_login_cat.xregular</dt>\n",
       "\t\t<dd>0.0557652937404814</dd>\n",
       "</dl>\n"
      ],
      "text/latex": [
       "\\begin{description*}\n",
       "\\item[Age] -0.244853467133861\n",
       "\\item[Attrition] 1\n",
       "\\item[DistanceFromHome] -0.0379411659030321\n",
       "\\item[JobLevel] -0.0177479061814085\n",
       "\\item[MonthlyIncome] 0.0348751440063626\n",
       "\\item[NumCompaniesWorked] 0.0390644387094864\n",
       "\\item[PercentSalaryHike] 0.0362641239536084\n",
       "\\item[StockOptionLevel] 0.0189098003574867\n",
       "\\item[TotalWorkingYears] -0.287293706331171\n",
       "\\item[TrainingTimesLastYear] 0.0281560942913432\n",
       "\\item[YearsAtCompany] -0.350163111485271\n",
       "\\item[YearsSinceLastPromotion] -0.0725470215480871\n",
       "\\item[YearsWithCurrManager] -0.328579217735697\n",
       "\\item[emp\\textbackslash{}\\_avg\\textbackslash{}\\_login] 0.245904016254428\n",
       "\\item[Education.xBachelor] -0.00744433530526437\n",
       "\\item[Education.xBelow.College] -0.0353357441967245\n",
       "\\item[Education.xCollege] 0.0578764329550855\n",
       "\\item[Education.xDoctor] 0.0205199474595519\n",
       "\\item[Education.xMaster] -0.0291620751604603\n",
       "\\item[BusinessTravel.xNon.Travel] -0.0635038604726942\n",
       "\\item[BusinessTravel.xTravel\\textbackslash{}\\_Frequently] 0.124474028050667\n",
       "\\item[BusinessTravel.xTravel\\textbackslash{}\\_Rarely] -0.0775556564080993\n",
       "\\item[EnvironmentSatisfaction.xHigh] -0.0159108934170868\n",
       "\\item[EnvironmentSatisfaction.xLow] 0.0947738910207667\n",
       "\\item[EnvironmentSatisfaction.xMedium] 0.0084413301699695\n",
       "\\item[EnvironmentSatisfaction.xVery.High] -0.0832431458815972\n",
       "\\item[Department.xHuman.Resources] 0.0951089751142819\n",
       "\\item[Department.xResearch...Development] 0.0173003406017965\n",
       "\\item[Department.xSales] -0.0720723662988066\n",
       "\\item[EducationField.xHuman.Resources] 0.0725842949852041\n",
       "\\item[EducationField.xLife.Sciences] 0.105050690523294\n",
       "\\item[EducationField.xMarketing] -0.0409552909718129\n",
       "\\item[EducationField.xMedical] -0.0360684338766901\n",
       "\\item[EducationField.xOther] -0.0469997228513571\n",
       "\\item[EducationField.xTechnical.Degree] -0.108131563563808\n",
       "\\item[Gender.xFemale] -0.0563144233960128\n",
       "\\item[Gender.xMale] 0.0563144233960128\n",
       "\\item[JobRole.xHealthcare.Representative] -0.0769817892644032\n",
       "\\item[JobRole.xHuman.Resources] 0.0162628329826171\n",
       "\\item[JobRole.xLaboratory.Technician] -0.0331234523578532\n",
       "\\item[JobRole.xManager] -0.0248535406312082\n",
       "\\item[JobRole.xManufacturing.Director] -0.00934773679740697\n",
       "\\item[JobRole.xResearch.Director] 0.0310967295549895\n",
       "\\item[JobRole.xResearch.Scientist] 0.0194907499359872\n",
       "\\item[JobRole.xSales.Executive] 0.0814278413025237\n",
       "\\item[JobRole.xSales.Representative] -0.0407410862534427\n",
       "\\item[MaritalStatus.xDivorced] -0.115028534168413\n",
       "\\item[MaritalStatus.xMarried] -0.159595854991927\n",
       "\\item[MaritalStatus.xSingle] 0.249247353211919\n",
       "\\item[JobSatisfaction.xHigh] 0.0245181348502524\n",
       "\\item[JobSatisfaction.xLow] 0.173746838966117\n",
       "\\item[JobSatisfaction.xMedium] -0.023124864503144\n",
       "\\item[JobSatisfaction.xVery.High] -0.16845754352629\n",
       "\\item[WorkLifeBalance.xBad] 0.100882978133054\n",
       "\\item[WorkLifeBalance.xBest] 0.05942413229225\n",
       "\\item[WorkLifeBalance.xBetter] -0.0938716859733457\n",
       "\\item[WorkLifeBalance.xGood] 0.0090592012438161\n",
       "\\item[JobInvolvement.xHigh] 0.0150771633767704\n",
       "\\item[JobInvolvement.xLow] 0.0559510917880613\n",
       "\\item[JobInvolvement.xMedium] -0.0259017035095308\n",
       "\\item[JobInvolvement.xVery.High] -0.0292213335721282\n",
       "\\item[PerformanceRating.xExcellent] -0.0170018836980504\n",
       "\\item[PerformanceRating.xOutstanding] 0.0170018836980504\n",
       "\\item[emp\\textbackslash{}\\_login\\textbackslash{}\\_cat.xearly.logout] -0.238017638436102\n",
       "\\item[emp\\textbackslash{}\\_login\\textbackslash{}\\_cat.xovertime] 0.206758145320131\n",
       "\\item[emp\\textbackslash{}\\_login\\textbackslash{}\\_cat.xregular] 0.0557652937404814\n",
       "\\end{description*}\n"
      ],
      "text/markdown": [
       "Age\n",
       ":   -0.244853467133861Attrition\n",
       ":   1DistanceFromHome\n",
       ":   -0.0379411659030321JobLevel\n",
       ":   -0.0177479061814085MonthlyIncome\n",
       ":   0.0348751440063626NumCompaniesWorked\n",
       ":   0.0390644387094864PercentSalaryHike\n",
       ":   0.0362641239536084StockOptionLevel\n",
       ":   0.0189098003574867TotalWorkingYears\n",
       ":   -0.287293706331171TrainingTimesLastYear\n",
       ":   0.0281560942913432YearsAtCompany\n",
       ":   -0.350163111485271YearsSinceLastPromotion\n",
       ":   -0.0725470215480871YearsWithCurrManager\n",
       ":   -0.328579217735697emp_avg_login\n",
       ":   0.245904016254428Education.xBachelor\n",
       ":   -0.00744433530526437Education.xBelow.College\n",
       ":   -0.0353357441967245Education.xCollege\n",
       ":   0.0578764329550855Education.xDoctor\n",
       ":   0.0205199474595519Education.xMaster\n",
       ":   -0.0291620751604603BusinessTravel.xNon.Travel\n",
       ":   -0.0635038604726942BusinessTravel.xTravel_Frequently\n",
       ":   0.124474028050667BusinessTravel.xTravel_Rarely\n",
       ":   -0.0775556564080993EnvironmentSatisfaction.xHigh\n",
       ":   -0.0159108934170868EnvironmentSatisfaction.xLow\n",
       ":   0.0947738910207667EnvironmentSatisfaction.xMedium\n",
       ":   0.0084413301699695EnvironmentSatisfaction.xVery.High\n",
       ":   -0.0832431458815972Department.xHuman.Resources\n",
       ":   0.0951089751142819Department.xResearch...Development\n",
       ":   0.0173003406017965Department.xSales\n",
       ":   -0.0720723662988066EducationField.xHuman.Resources\n",
       ":   0.0725842949852041EducationField.xLife.Sciences\n",
       ":   0.105050690523294EducationField.xMarketing\n",
       ":   -0.0409552909718129EducationField.xMedical\n",
       ":   -0.0360684338766901EducationField.xOther\n",
       ":   -0.0469997228513571EducationField.xTechnical.Degree\n",
       ":   -0.108131563563808Gender.xFemale\n",
       ":   -0.0563144233960128Gender.xMale\n",
       ":   0.0563144233960128JobRole.xHealthcare.Representative\n",
       ":   -0.0769817892644032JobRole.xHuman.Resources\n",
       ":   0.0162628329826171JobRole.xLaboratory.Technician\n",
       ":   -0.0331234523578532JobRole.xManager\n",
       ":   -0.0248535406312082JobRole.xManufacturing.Director\n",
       ":   -0.00934773679740697JobRole.xResearch.Director\n",
       ":   0.0310967295549895JobRole.xResearch.Scientist\n",
       ":   0.0194907499359872JobRole.xSales.Executive\n",
       ":   0.0814278413025237JobRole.xSales.Representative\n",
       ":   -0.0407410862534427MaritalStatus.xDivorced\n",
       ":   -0.115028534168413MaritalStatus.xMarried\n",
       ":   -0.159595854991927MaritalStatus.xSingle\n",
       ":   0.249247353211919JobSatisfaction.xHigh\n",
       ":   0.0245181348502524JobSatisfaction.xLow\n",
       ":   0.173746838966117JobSatisfaction.xMedium\n",
       ":   -0.023124864503144JobSatisfaction.xVery.High\n",
       ":   -0.16845754352629WorkLifeBalance.xBad\n",
       ":   0.100882978133054WorkLifeBalance.xBest\n",
       ":   0.05942413229225WorkLifeBalance.xBetter\n",
       ":   -0.0938716859733457WorkLifeBalance.xGood\n",
       ":   0.0090592012438161JobInvolvement.xHigh\n",
       ":   0.0150771633767704JobInvolvement.xLow\n",
       ":   0.0559510917880613JobInvolvement.xMedium\n",
       ":   -0.0259017035095308JobInvolvement.xVery.High\n",
       ":   -0.0292213335721282PerformanceRating.xExcellent\n",
       ":   -0.0170018836980504PerformanceRating.xOutstanding\n",
       ":   0.0170018836980504emp_login_cat.xearly.logout\n",
       ":   -0.238017638436102emp_login_cat.xovertime\n",
       ":   0.206758145320131emp_login_cat.xregular\n",
       ":   0.0557652937404814\n",
       "\n"
      ],
      "text/plain": [
       "                               Age                          Attrition \n",
       "                      -0.244853467                        1.000000000 \n",
       "                  DistanceFromHome                           JobLevel \n",
       "                      -0.037941166                       -0.017747906 \n",
       "                     MonthlyIncome                 NumCompaniesWorked \n",
       "                       0.034875144                        0.039064439 \n",
       "                 PercentSalaryHike                   StockOptionLevel \n",
       "                       0.036264124                        0.018909800 \n",
       "                 TotalWorkingYears              TrainingTimesLastYear \n",
       "                      -0.287293706                        0.028156094 \n",
       "                    YearsAtCompany            YearsSinceLastPromotion \n",
       "                      -0.350163111                       -0.072547022 \n",
       "              YearsWithCurrManager                      emp_avg_login \n",
       "                      -0.328579218                        0.245904016 \n",
       "               Education.xBachelor           Education.xBelow.College \n",
       "                      -0.007444335                       -0.035335744 \n",
       "                Education.xCollege                  Education.xDoctor \n",
       "                       0.057876433                        0.020519947 \n",
       "                 Education.xMaster         BusinessTravel.xNon.Travel \n",
       "                      -0.029162075                       -0.063503860 \n",
       " BusinessTravel.xTravel_Frequently      BusinessTravel.xTravel_Rarely \n",
       "                       0.124474028                       -0.077555656 \n",
       "     EnvironmentSatisfaction.xHigh       EnvironmentSatisfaction.xLow \n",
       "                      -0.015910893                        0.094773891 \n",
       "   EnvironmentSatisfaction.xMedium EnvironmentSatisfaction.xVery.High \n",
       "                       0.008441330                       -0.083243146 \n",
       "       Department.xHuman.Resources Department.xResearch...Development \n",
       "                       0.095108975                        0.017300341 \n",
       "                 Department.xSales    EducationField.xHuman.Resources \n",
       "                      -0.072072366                        0.072584295 \n",
       "     EducationField.xLife.Sciences          EducationField.xMarketing \n",
       "                       0.105050691                       -0.040955291 \n",
       "           EducationField.xMedical              EducationField.xOther \n",
       "                      -0.036068434                       -0.046999723 \n",
       "  EducationField.xTechnical.Degree                     Gender.xFemale \n",
       "                      -0.108131564                       -0.056314423 \n",
       "                      Gender.xMale JobRole.xHealthcare.Representative \n",
       "                       0.056314423                       -0.076981789 \n",
       "          JobRole.xHuman.Resources     JobRole.xLaboratory.Technician \n",
       "                       0.016262833                       -0.033123452 \n",
       "                  JobRole.xManager    JobRole.xManufacturing.Director \n",
       "                      -0.024853541                       -0.009347737 \n",
       "        JobRole.xResearch.Director        JobRole.xResearch.Scientist \n",
       "                       0.031096730                        0.019490750 \n",
       "          JobRole.xSales.Executive      JobRole.xSales.Representative \n",
       "                       0.081427841                       -0.040741086 \n",
       "           MaritalStatus.xDivorced             MaritalStatus.xMarried \n",
       "                      -0.115028534                       -0.159595855 \n",
       "             MaritalStatus.xSingle              JobSatisfaction.xHigh \n",
       "                       0.249247353                        0.024518135 \n",
       "              JobSatisfaction.xLow            JobSatisfaction.xMedium \n",
       "                       0.173746839                       -0.023124865 \n",
       "        JobSatisfaction.xVery.High               WorkLifeBalance.xBad \n",
       "                      -0.168457544                        0.100882978 \n",
       "             WorkLifeBalance.xBest            WorkLifeBalance.xBetter \n",
       "                       0.059424132                       -0.093871686 \n",
       "             WorkLifeBalance.xGood               JobInvolvement.xHigh \n",
       "                       0.009059201                        0.015077163 \n",
       "               JobInvolvement.xLow             JobInvolvement.xMedium \n",
       "                       0.055951092                       -0.025901704 \n",
       "         JobInvolvement.xVery.High       PerformanceRating.xExcellent \n",
       "                      -0.029221334                       -0.017001884 \n",
       "    PerformanceRating.xOutstanding        emp_login_cat.xearly.logout \n",
       "                       0.017001884                       -0.238017638 \n",
       "           emp_login_cat.xovertime             emp_login_cat.xregular \n",
       "                       0.206758145                        0.055765294 "
      ]
     },
     "metadata": {},
     "output_type": "display_data"
    }
   ],
   "source": [
    "as.matrix(res2[[1]])[, 2]"
   ]
  },
  {
   "cell_type": "markdown",
   "id": "secret-sweden",
   "metadata": {},
   "source": [
    "The following variables show significant negative correlation:\n",
    "\n",
    "    Age\n",
    "    TotalWorkingYears\n",
    "    YearsAtCompany\n",
    "    YearsSinceLastPromotion\n",
    "    YearsWithCurrManager\n",
    "    EducationField.xTechnical.Degree\n",
    "    MaritalStatus.xDivorced\n",
    "    MaritalStatus.xMarried\n",
    "    emp_login_cat.xearly.logout\n",
    "\n",
    "\n",
    "The following variables show significant positive correlation:\n",
    "\n",
    "    emp_avg_login\n",
    "    EducationField.xLife.Sciences\n",
    "    BusinessTravel.xTravel_Frequently\n",
    "    MaritalStatus.xSingle\n",
    "    JobSatisfaction.xLow\n",
    "    WorkLifeBalance.xBad\n",
    "    emp_login_cat.xovertime"
   ]
  },
  {
   "cell_type": "markdown",
   "id": "c572f15e",
   "metadata": {},
   "source": [
    "## Correlation matrix"
   ]
  },
  {
   "cell_type": "markdown",
   "id": "14e66108",
   "metadata": {},
   "source": [
    "We plot a correlation matrix of selected variables from the above analysis."
   ]
  },
  {
   "cell_type": "code",
   "execution_count": 64,
   "id": "9e11392c",
   "metadata": {
    "ExecuteTime": {
     "end_time": "2021-04-20T18:31:20.422932Z",
     "start_time": "2021-04-20T18:12:50.786Z"
    }
   },
   "outputs": [
    {
     "name": "stdout",
     "output_type": "stream",
     "text": [
      "'data.frame':\t890 obs. of  17 variables:\n",
      " $ Age                              : num [1:890, 1] -0.783 0.121 0.121 -0.783 2.042 ...\n",
      "  ..- attr(*, \"scaled:center\")= num 33.9\n",
      "  ..- attr(*, \"scaled:scale\")= num 8.85\n",
      " $ TotalWorkingYears                : num [1:890, 1] -1.28 -0.71 -1.09 -0.141 0.238 ...\n",
      "  ..- attr(*, \"scaled:center\")= num 7.74\n",
      "  ..- attr(*, \"scaled:scale\")= num 5.27\n",
      " $ YearsAtCompany                   : num [1:890, 1] -0.9523 -0.0636 -0.6561 0.8251 0.2327 ...\n",
      "  ..- attr(*, \"scaled:center\")= num 4.21\n",
      "  ..- attr(*, \"scaled:scale\")= num 3.38\n",
      " $ YearsSinceLastPromotion          : num [1:890, 1] -0.719 0.181 1.081 -0.719 0.181 ...\n",
      "  ..- attr(*, \"scaled:center\")= num 0.799\n",
      "  ..- attr(*, \"scaled:scale\")= num 1.11\n",
      " $ YearsWithCurrManager             : num [1:890, 1] -0.979 -0.601 -0.223 0.155 0.533 ...\n",
      "  ..- attr(*, \"scaled:center\")= num 2.59\n",
      "  ..- attr(*, \"scaled:scale\")= num 2.64\n",
      " $ EducationField.xTechnical.Degree : num  0 0 0 0 0 0 0 0 0 0 ...\n",
      " $ MaritalStatus.xDivorced          : num  1 0 0 0 0 0 0 0 0 0 ...\n",
      " $ MaritalStatus.xMarried           : num  0 1 1 0 1 1 0 1 0 1 ...\n",
      " $ emp_login_cat.xearly.logout      : num  0 1 0 0 1 1 0 1 1 0 ...\n",
      " $ emp_avg_login                    : num [1:890, 1] 0.0746 -0.6172 0.0746 0.0746 -1.3089 ...\n",
      "  ..- attr(*, \"scaled:center\")= num 7.89\n",
      "  ..- attr(*, \"scaled:scale\")= num 1.45\n",
      " $ EducationField.xLife.Sciences    : num  0 1 0 0 1 0 1 1 1 0 ...\n",
      " $ MaritalStatus.xSingle            : num  0 0 0 1 0 0 1 0 1 0 ...\n",
      " $ BusinessTravel.xTravel_Frequently: num  0 0 1 0 0 0 0 0 1 0 ...\n",
      " $ JobSatisfaction.xLow             : num  1 0 0 0 0 0 0 0 0 0 ...\n",
      " $ WorkLifeBalance.xBad             : num  0 0 0 0 0 0 0 0 0 0 ...\n",
      " $ emp_login_cat.xovertime          : num  0 0 0 0 0 0 0 0 0 0 ...\n",
      " $ Attrition                        : num  0 0 0 0 0 0 0 0 0 0 ...\n"
     ]
    }
   ],
   "source": [
    "col_names <- c(\"Age\", \"TotalWorkingYears\", \"YearsAtCompany\", \"YearsSinceLastPromotion\", \"YearsWithCurrManager\", \n",
    "               \"EducationField.xTechnical.Degree\", \"MaritalStatus.xDivorced\", \"MaritalStatus.xMarried\",\n",
    "               \"emp_login_cat.xearly.logout\", \"emp_avg_login\",\"EducationField.xLife.Sciences\", \"MaritalStatus.xSingle\",\n",
    "               \"BusinessTravel.xTravel_Frequently\", \"JobSatisfaction.xLow\", \"WorkLifeBalance.xBad\", \n",
    "               \"emp_login_cat.xovertime\", \"Attrition\")\n",
    "hrdata_new <- hrdata_final[, col_names]\n",
    "str(hrdata_new)"
   ]
  },
  {
   "cell_type": "code",
   "execution_count": 65,
   "id": "f7df7c8b",
   "metadata": {
    "ExecuteTime": {
     "end_time": "2021-04-20T18:31:38.548085Z",
     "start_time": "2021-04-20T18:12:50.853Z"
    }
   },
   "outputs": [
    {
     "name": "stderr",
     "output_type": "stream",
     "text": [
      "corrplot 0.84 loaded\n"
     ]
    },
    {
     "data": {
      "image/png": "[encoded data removed]",
      "text/plain": [
       "Plot with title \"\""
      ]
     },
     "metadata": {},
     "output_type": "display_data"
    }
   ],
   "source": [
    "library(corrplot)\n",
    "\n",
    "corrplot(cor(hrdata_new), method=\"color\", outline=\"White\")"
   ]
  },
  {
   "cell_type": "markdown",
   "id": "laden-convergence",
   "metadata": {},
   "source": [
    "## Regression analysis"
   ]
  },
  {
   "cell_type": "markdown",
   "id": "60fe6260",
   "metadata": {},
   "source": [
    "Now we do regression analysis on input variables that are highly dependent on each other."
   ]
  },
  {
   "cell_type": "code",
   "execution_count": 66,
   "id": "derived-masters",
   "metadata": {
    "ExecuteTime": {
     "end_time": "2021-04-20T18:31:56.746542Z",
     "start_time": "2021-04-20T18:12:51.019Z"
    }
   },
   "outputs": [
    {
     "name": "stdout",
     "output_type": "stream",
     "text": [
      "\n",
      "Call:\n",
      "lm(formula = hrdata_new$Age ~ hrdata_new$TotalWorkingYears)\n",
      "\n",
      "Residuals:\n",
      "    Min      1Q  Median      3Q     Max \n",
      "-0.9503 -0.6908 -0.1327  0.4426  2.9192 \n",
      "\n",
      "Coefficients:\n",
      "                              Estimate Std. Error t value Pr(>|t|)    \n",
      "(Intercept)                  3.625e-16  2.670e-02    0.00        1    \n",
      "hrdata_new$TotalWorkingYears 6.051e-01  2.672e-02   22.65   <2e-16 ***\n",
      "---\n",
      "Signif. codes:  0 '***' 0.001 '**' 0.01 '*' 0.05 '.' 0.1 ' ' 1\n",
      "\n",
      "Residual standard error: 0.7966 on 888 degrees of freedom\n",
      "Multiple R-squared:  0.3661,\tAdjusted R-squared:  0.3654 \n",
      "F-statistic:   513 on 1 and 888 DF,  p-value: < 2.2e-16\n",
      "\n"
     ]
    },
    {
     "data": {
      "image/png": "[encoded data removed]",
      "text/plain": [
       "plot without title"
      ]
     },
     "metadata": {},
     "output_type": "display_data"
    }
   ],
   "source": [
    "relation <- lm(hrdata_new$Age~hrdata_new$TotalWorkingYears)\n",
    "\n",
    "print(summary(relation))\n",
    "\n",
    "# Plot the chart.\n",
    "plot(hrdata_new$Age,hrdata_new$TotalWorkingYears,col = \"blue\", abline(relation ,cex = 1.3,pch = 16))\n",
    "\n",
    "#One of these need to be removed"
   ]
  },
  {
   "cell_type": "code",
   "execution_count": 67,
   "id": "middle-penetration",
   "metadata": {
    "ExecuteTime": {
     "end_time": "2021-04-20T18:32:14.762835Z",
     "start_time": "2021-04-20T18:12:51.086Z"
    }
   },
   "outputs": [
    {
     "name": "stdout",
     "output_type": "stream",
     "text": [
      "\n",
      "Call:\n",
      "lm(formula = hrdata_new$YearsAtCompany ~ hrdata_new$TotalWorkingYears)\n",
      "\n",
      "Residuals:\n",
      "    Min      1Q  Median      3Q     Max \n",
      "-2.1860 -0.4684 -0.1223  0.4702  3.1098 \n",
      "\n",
      "Coefficients:\n",
      "                               Estimate Std. Error t value Pr(>|t|)    \n",
      "(Intercept)                  -3.415e-17  2.985e-02    0.00        1    \n",
      "hrdata_new$TotalWorkingYears  4.562e-01  2.986e-02   15.28   <2e-16 ***\n",
      "---\n",
      "Signif. codes:  0 '***' 0.001 '**' 0.01 '*' 0.05 '.' 0.1 ' ' 1\n",
      "\n",
      "Residual standard error: 0.8904 on 888 degrees of freedom\n",
      "Multiple R-squared:  0.2081,\tAdjusted R-squared:  0.2072 \n",
      "F-statistic: 233.4 on 1 and 888 DF,  p-value: < 2.2e-16\n",
      "\n"
     ]
    },
    {
     "data": {
      "image/png": "[encoded data removed]",
      "text/plain": [
       "plot without title"
      ]
     },
     "metadata": {},
     "output_type": "display_data"
    }
   ],
   "source": [
    "relation <- lm(hrdata_new$YearsAtCompany~hrdata_new$TotalWorkingYears)\n",
    "\n",
    "print(summary(relation))\n",
    "\n",
    "# Plot the chart.\n",
    "plot(hrdata_new$YearsAtCompany,hrdata_new$TotalWorkingYears,col = \"blue\", abline(relation ,cex = 1.3,pch = 16))\n"
   ]
  },
  {
   "cell_type": "code",
   "execution_count": 68,
   "id": "constant-lexington",
   "metadata": {
    "ExecuteTime": {
     "end_time": "2021-04-20T18:32:32.287329Z",
     "start_time": "2021-04-20T18:12:51.153Z"
    }
   },
   "outputs": [
    {
     "name": "stdout",
     "output_type": "stream",
     "text": [
      "\n",
      "Call:\n",
      "lm(formula = hrdata_new$YearsWithCurrManager ~ hrdata_new$TotalWorkingYears)\n",
      "\n",
      "Residuals:\n",
      "    Min      1Q  Median      3Q     Max \n",
      "-2.0137 -0.4901 -0.0965  0.3658  2.5663 \n",
      "\n",
      "Coefficients:\n",
      "                              Estimate Std. Error t value Pr(>|t|)    \n",
      "(Intercept)                  1.861e-17  3.099e-02    0.00        1    \n",
      "hrdata_new$TotalWorkingYears 3.824e-01  3.101e-02   12.33   <2e-16 ***\n",
      "---\n",
      "Signif. codes:  0 '***' 0.001 '**' 0.01 '*' 0.05 '.' 0.1 ' ' 1\n",
      "\n",
      "Residual standard error: 0.9245 on 888 degrees of freedom\n",
      "Multiple R-squared:  0.1463,\tAdjusted R-squared:  0.1453 \n",
      "F-statistic: 152.1 on 1 and 888 DF,  p-value: < 2.2e-16\n",
      "\n"
     ]
    },
    {
     "data": {
      "image/png": "[encoded data removed]",
      "text/plain": [
       "plot without title"
      ]
     },
     "metadata": {},
     "output_type": "display_data"
    }
   ],
   "source": [
    "relation <- lm(hrdata_new$YearsWithCurrManager~hrdata_new$TotalWorkingYears)\n",
    "\n",
    "print(summary(relation))\n",
    "\n",
    "# Plot the chart.\n",
    "plot(hrdata_new$YearsWithCurrManager,hrdata_new$TotalWorkingYears,col = \"blue\", abline(relation ,cex = 1.3,pch = 16))\n"
   ]
  },
  {
   "cell_type": "code",
   "execution_count": 69,
   "id": "immune-concentration",
   "metadata": {
    "ExecuteTime": {
     "end_time": "2021-04-20T18:32:51.205454Z",
     "start_time": "2021-04-20T18:12:51.495Z"
    }
   },
   "outputs": [
    {
     "name": "stdout",
     "output_type": "stream",
     "text": [
      "\n",
      "Call:\n",
      "lm(formula = hrdata_new$YearsWithCurrManager ~ hrdata_new$YearsAtCompany)\n",
      "\n",
      "Residuals:\n",
      "     Min       1Q   Median       3Q      Max \n",
      "-3.07471 -0.16695  0.08392  0.33478  1.08737 \n",
      "\n",
      "Coefficients:\n",
      "                           Estimate Std. Error t value Pr(>|t|)    \n",
      "(Intercept)               5.354e-17  1.749e-02    0.00        1    \n",
      "hrdata_new$YearsAtCompany 8.532e-01  1.750e-02   48.76   <2e-16 ***\n",
      "---\n",
      "Signif. codes:  0 '***' 0.001 '**' 0.01 '*' 0.05 '.' 0.1 ' ' 1\n",
      "\n",
      "Residual standard error: 0.5218 on 888 degrees of freedom\n",
      "Multiple R-squared:  0.728,\tAdjusted R-squared:  0.7277 \n",
      "F-statistic:  2377 on 1 and 888 DF,  p-value: < 2.2e-16\n",
      "\n"
     ]
    },
    {
     "data": {
      "image/png": "[encoded data removed]",
      "text/plain": [
       "plot without title"
      ]
     },
     "metadata": {},
     "output_type": "display_data"
    }
   ],
   "source": [
    "relation <- lm(hrdata_new$YearsWithCurrManager~hrdata_new$YearsAtCompany)\n",
    "\n",
    "print(summary(relation))\n",
    "\n",
    "# Plot the chart.\n",
    "plot(hrdata_new$YearsWithCurrManager,hrdata_new$YearsAtCompany,col = \"blue\", abline(relation ,cex = 1.3,pch = 16))\n",
    "\n",
    "#One of these need to be removed"
   ]
  },
  {
   "cell_type": "code",
   "execution_count": 70,
   "id": "stuck-banner",
   "metadata": {
    "ExecuteTime": {
     "end_time": "2021-04-20T18:33:08.895307Z",
     "start_time": "2021-04-20T18:12:51.848Z"
    }
   },
   "outputs": [
    {
     "name": "stdout",
     "output_type": "stream",
     "text": [
      "\n",
      "Call:\n",
      "lm(formula = hrdata_new$YearsSinceLastPromotion ~ hrdata_new$YearsAtCompany)\n",
      "\n",
      "Residuals:\n",
      "    Min      1Q  Median      3Q     Max \n",
      "-1.4381 -0.5682 -0.3197  0.3320  3.4358 \n",
      "\n",
      "Coefficients:\n",
      "                           Estimate Std. Error t value Pr(>|t|)    \n",
      "(Intercept)               1.487e-16  3.045e-02    0.00        1    \n",
      "hrdata_new$YearsAtCompany 4.195e-01  3.046e-02   13.77   <2e-16 ***\n",
      "---\n",
      "Signif. codes:  0 '***' 0.001 '**' 0.01 '*' 0.05 '.' 0.1 ' ' 1\n",
      "\n",
      "Residual standard error: 0.9083 on 888 degrees of freedom\n",
      "Multiple R-squared:  0.176,\tAdjusted R-squared:  0.175 \n",
      "F-statistic: 189.6 on 1 and 888 DF,  p-value: < 2.2e-16\n",
      "\n"
     ]
    },
    {
     "data": {
      "image/png": "[encoded data removed]",
      "text/plain": [
       "plot without title"
      ]
     },
     "metadata": {},
     "output_type": "display_data"
    }
   ],
   "source": [
    "relation <- lm(hrdata_new$YearsSinceLastPromotion~hrdata_new$YearsAtCompany)\n",
    "\n",
    "print(summary(relation))\n",
    "\n",
    "# Plot the chart.\n",
    "plot(hrdata_new$YearsSinceLastPromotion,hrdata_new$YearsAtCompany,col = \"blue\", abline(relation ,cex = 1.3,pch = 16))\n"
   ]
  },
  {
   "cell_type": "markdown",
   "id": "a67d0fa6",
   "metadata": {},
   "source": [
    "## Final dataset creation"
   ]
  },
  {
   "cell_type": "markdown",
   "id": "65479d33",
   "metadata": {},
   "source": [
    "Use 9 dependent variables and split the dataset into test and train wherein 70% is training data."
   ]
  },
  {
   "cell_type": "code",
   "execution_count": 71,
   "id": "d9eaa1ca",
   "metadata": {
    "ExecuteTime": {
     "end_time": "2021-04-20T18:33:28.425311Z",
     "start_time": "2021-04-20T18:12:52.828Z"
    }
   },
   "outputs": [
    {
     "name": "stdout",
     "output_type": "stream",
     "text": [
      "'data.frame':\t890 obs. of  10 variables:\n",
      " $ TotalWorkingYears                : num [1:890, 1] -1.28 -0.71 -1.09 -0.141 0.238 ...\n",
      "  ..- attr(*, \"scaled:center\")= num 7.74\n",
      "  ..- attr(*, \"scaled:scale\")= num 5.27\n",
      " $ YearsAtCompany                   : num [1:890, 1] -0.9523 -0.0636 -0.6561 0.8251 0.2327 ...\n",
      "  ..- attr(*, \"scaled:center\")= num 4.21\n",
      "  ..- attr(*, \"scaled:scale\")= num 3.38\n",
      " $ YearsSinceLastPromotion          : num [1:890, 1] -0.719 0.181 1.081 -0.719 0.181 ...\n",
      "  ..- attr(*, \"scaled:center\")= num 0.799\n",
      "  ..- attr(*, \"scaled:scale\")= num 1.11\n",
      " $ MaritalStatus.xDivorced          : num  1 0 0 0 0 0 0 0 0 0 ...\n",
      " $ emp_login_cat.xearly.logout      : num  0 1 0 0 1 1 0 1 1 0 ...\n",
      " $ MaritalStatus.xSingle            : num  0 0 0 1 0 0 1 0 1 0 ...\n",
      " $ BusinessTravel.xTravel_Frequently: num  0 0 1 0 0 0 0 0 1 0 ...\n",
      " $ JobSatisfaction.xLow             : num  1 0 0 0 0 0 0 0 0 0 ...\n",
      " $ emp_login_cat.xovertime          : num  0 0 0 0 0 0 0 0 0 0 ...\n",
      " $ Attrition                        : num  0 0 0 0 0 0 0 0 0 0 ...\n"
     ]
    }
   ],
   "source": [
    "col_names <- c(\"TotalWorkingYears\", \"YearsAtCompany\", \"YearsSinceLastPromotion\", \"MaritalStatus.xDivorced\", \n",
    "               \"emp_login_cat.xearly.logout\", \"MaritalStatus.xSingle\",\n",
    "               \"BusinessTravel.xTravel_Frequently\", \"JobSatisfaction.xLow\", \n",
    "               \"emp_login_cat.xovertime\", \"Attrition\")\n",
    "df <- hrdata_new[, col_names]\n",
    "str(df)"
   ]
  },
  {
   "cell_type": "markdown",
   "id": "adb30783",
   "metadata": {},
   "source": [
    "## Model Building"
   ]
  },
  {
   "cell_type": "markdown",
   "id": "17afa6d8",
   "metadata": {},
   "source": [
    "Using Naive Bayes with 10 fold cross validation."
   ]
  },
  {
   "cell_type": "code",
   "execution_count": 73,
   "id": "56868cce",
   "metadata": {
    "ExecuteTime": {
     "end_time": "2021-04-20T18:34:05.963224Z",
     "start_time": "2021-04-20T18:12:54.435Z"
    }
   },
   "outputs": [
    {
     "name": "stderr",
     "output_type": "stream",
     "text": [
      "Registered S3 method overwritten by 'rvest':\n",
      "  method            from\n",
      "  read_xml.response xml2\n",
      "-- Attaching packages --------------------------------------- tidyverse 1.2.1 --\n",
      "v tibble  2.1.1       v purrr   0.3.2  \n",
      "v tidyr   0.8.3       v dplyr   0.8.0.1\n",
      "v readr   1.3.1       v stringr 1.4.0  \n",
      "v tibble  2.1.1       v forcats 0.4.0  \n",
      "-- Conflicts ------------------------------------------ tidyverse_conflicts() --\n",
      "x lubridate::as.difftime() masks base::as.difftime()\n",
      "x lubridate::date()        masks base::date()\n",
      "x dplyr::filter()          masks stats::filter()\n",
      "x purrr::flatten()         masks jsonlite::flatten()\n",
      "x lubridate::intersect()   masks base::intersect()\n",
      "x dplyr::lag()             masks stats::lag()\n",
      "x lubridate::setdiff()     masks base::setdiff()\n",
      "x dplyr::src()             masks Hmisc::src()\n",
      "x lubridate::stamp()       masks cowplot::stamp()\n",
      "x dplyr::summarize()       masks Hmisc::summarize()\n",
      "x lubridate::union()       masks base::union()\n",
      "\n",
      "Attaching package: 'caret'\n",
      "\n",
      "The following object is masked from 'package:purrr':\n",
      "\n",
      "    lift\n",
      "\n",
      "The following object is masked from 'package:survival':\n",
      "\n",
      "    cluster\n",
      "\n",
      "naivebayes 0.9.6 loaded\n"
     ]
    }
   ],
   "source": [
    "library(tidyverse) \n",
    "library(caret)\n",
    "library(naivebayes)"
   ]
  },
  {
   "cell_type": "code",
   "execution_count": 79,
   "id": "57d08447",
   "metadata": {
    "ExecuteTime": {
     "end_time": "2021-04-20T18:36:41.237355Z",
     "start_time": "2021-04-20T18:36:40.540Z"
    }
   },
   "outputs": [
    {
     "data": {
      "text/plain": [
       "Naive Bayes \n",
       "\n",
       "890 samples\n",
       "  9 predictor\n",
       "  2 classes: '0', '1' \n",
       "\n",
       "No pre-processing\n",
       "Resampling: Cross-Validated (10 fold) \n",
       "Summary of sample sizes: 801, 801, 801, 801, 801, 801, ... \n",
       "Resampling results across tuning parameters:\n",
       "\n",
       "  usekernel  Accuracy   Kappa    \n",
       "  FALSE      0.6741573  0.3486094\n",
       "   TRUE      0.7067416  0.4123318\n",
       "\n",
       "Tuning parameter 'laplace' was held constant at a value of 0\n",
       "Tuning\n",
       " parameter 'adjust' was held constant at a value of 1\n",
       "Accuracy was used to select the optimal model using the largest value.\n",
       "The final values used for the model were laplace = 0, usekernel = TRUE\n",
       " and adjust = 1."
      ]
     },
     "metadata": {},
     "output_type": "display_data"
    }
   ],
   "source": [
    "set.seed(100)\n",
    "trctrl <- trainControl(method = \"cv\", number = 10, savePredictions=TRUE)\n",
    "nb_fit <- train(factor(Attrition) ~., data = df, method = \"naive_bayes\", trControl=trctrl, tuneLength = 0)\n",
    "nb_fit"
   ]
  },
  {
   "cell_type": "code",
   "execution_count": 80,
   "id": "f3a5c3ec",
   "metadata": {
    "ExecuteTime": {
     "end_time": "2021-04-20T18:36:59.089127Z",
     "start_time": "2021-04-20T18:36:48.042Z"
    }
   },
   "outputs": [],
   "source": [
    "pred <- nb_fit$pred\n",
    "pred$equal <- ifelse(pred$pred == pred$obs, 1,0)"
   ]
  },
  {
   "cell_type": "code",
   "execution_count": 81,
   "id": "ce90010e",
   "metadata": {
    "ExecuteTime": {
     "end_time": "2021-04-20T18:37:17.745916Z",
     "start_time": "2021-04-20T18:36:53.282Z"
    }
   },
   "outputs": [
    {
     "data": {
      "text/html": [
       "<table>\n",
       "<thead><tr><th scope=col>Resample</th><th scope=col>Accuracy</th></tr></thead>\n",
       "<tbody>\n",
       "\t<tr><td>Fold01   </td><td>0.6179775</td></tr>\n",
       "\t<tr><td>Fold02   </td><td>0.7134831</td></tr>\n",
       "\t<tr><td>Fold03   </td><td>0.7191011</td></tr>\n",
       "\t<tr><td>Fold04   </td><td>0.6966292</td></tr>\n",
       "\t<tr><td>Fold05   </td><td>0.6685393</td></tr>\n",
       "\t<tr><td>Fold06   </td><td>0.7134831</td></tr>\n",
       "\t<tr><td>Fold07   </td><td>0.7247191</td></tr>\n",
       "\t<tr><td>Fold08   </td><td>0.6292135</td></tr>\n",
       "\t<tr><td>Fold09   </td><td>0.6629213</td></tr>\n",
       "\t<tr><td>Fold10   </td><td>0.7584270</td></tr>\n",
       "</tbody>\n",
       "</table>\n"
      ],
      "text/latex": [
       "\\begin{tabular}{r|ll}\n",
       " Resample & Accuracy\\\\\n",
       "\\hline\n",
       "\t Fold01    & 0.6179775\\\\\n",
       "\t Fold02    & 0.7134831\\\\\n",
       "\t Fold03    & 0.7191011\\\\\n",
       "\t Fold04    & 0.6966292\\\\\n",
       "\t Fold05    & 0.6685393\\\\\n",
       "\t Fold06    & 0.7134831\\\\\n",
       "\t Fold07    & 0.7247191\\\\\n",
       "\t Fold08    & 0.6292135\\\\\n",
       "\t Fold09    & 0.6629213\\\\\n",
       "\t Fold10    & 0.7584270\\\\\n",
       "\\end{tabular}\n"
      ],
      "text/markdown": [
       "\n",
       "| Resample | Accuracy |\n",
       "|---|---|\n",
       "| Fold01    | 0.6179775 |\n",
       "| Fold02    | 0.7134831 |\n",
       "| Fold03    | 0.7191011 |\n",
       "| Fold04    | 0.6966292 |\n",
       "| Fold05    | 0.6685393 |\n",
       "| Fold06    | 0.7134831 |\n",
       "| Fold07    | 0.7247191 |\n",
       "| Fold08    | 0.6292135 |\n",
       "| Fold09    | 0.6629213 |\n",
       "| Fold10    | 0.7584270 |\n",
       "\n"
      ],
      "text/plain": [
       "   Resample Accuracy \n",
       "1  Fold01   0.6179775\n",
       "2  Fold02   0.7134831\n",
       "3  Fold03   0.7191011\n",
       "4  Fold04   0.6966292\n",
       "5  Fold05   0.6685393\n",
       "6  Fold06   0.7134831\n",
       "7  Fold07   0.7247191\n",
       "8  Fold08   0.6292135\n",
       "9  Fold09   0.6629213\n",
       "10 Fold10   0.7584270"
      ]
     },
     "metadata": {},
     "output_type": "display_data"
    }
   ],
   "source": [
    "eachfold <- pred %>%                                        \n",
    "  group_by(Resample) %>%                         \n",
    "  summarise_at(vars(equal),                     \n",
    "               list(Accuracy = mean))              \n",
    "eachfold"
   ]
  },
  {
   "cell_type": "code",
   "execution_count": 82,
   "id": "1d214ae2",
   "metadata": {
    "ExecuteTime": {
     "end_time": "2021-04-20T18:37:36.039409Z",
     "start_time": "2021-04-20T18:36:55.578Z"
    }
   },
   "outputs": [
    {
     "data": {
      "image/png": "[encoded data removed]",
      "text/plain": [
       "plot without title"
      ]
     },
     "metadata": {},
     "output_type": "display_data"
    }
   ],
   "source": [
    "ggplot(data=eachfold, aes(x=Resample, y=Accuracy, group=1)) +\n",
    "geom_boxplot(color=\"maroon\") +\n",
    "geom_point() +\n",
    "theme_minimal()"
   ]
  },
  {
   "cell_type": "markdown",
   "id": "f43ba4c1",
   "metadata": {},
   "source": [
    "## Analyse predictions"
   ]
  },
  {
   "cell_type": "code",
   "execution_count": 83,
   "id": "7419bfec",
   "metadata": {
    "ExecuteTime": {
     "end_time": "2021-04-20T18:37:54.592026Z",
     "start_time": "2021-04-20T18:37:02.727Z"
    }
   },
   "outputs": [],
   "source": [
    "res <- confusionMatrix(data=pred$pred, reference = pred$obs)"
   ]
  },
  {
   "cell_type": "code",
   "execution_count": 84,
   "id": "984d4d57",
   "metadata": {
    "ExecuteTime": {
     "end_time": "2021-04-20T18:38:12.829932Z",
     "start_time": "2021-04-20T18:37:03.028Z"
    }
   },
   "outputs": [],
   "source": [
    "draw_confusion_matrix <- function(cm) {\n",
    "\n",
    "  layout(matrix(c(1,1,2)))\n",
    "  par(mar=c(2,2,2,2))\n",
    "  plot(c(100, 345), c(300, 450), type = \"n\", xlab=\"\", ylab=\"\", xaxt='n', yaxt='n')\n",
    "  title('CONFUSION MATRIX', cex.main=2)\n",
    "\n",
    "  # create the matrix \n",
    "  rect(150, 430, 240, 370, col='#3F97D0')\n",
    "  text(195, 435, 'Class1', cex=1.2)\n",
    "  rect(250, 430, 340, 370, col='#F7AD50')\n",
    "  text(295, 435, 'Class2', cex=1.2)\n",
    "  text(125, 370, 'Predicted', cex=1.3, srt=90, font=2)\n",
    "  text(245, 450, 'Actual', cex=1.3, font=2)\n",
    "  rect(150, 305, 240, 365, col='#F7AD50')\n",
    "  rect(250, 305, 340, 365, col='#3F97D0')\n",
    "  text(140, 400, 'Class1', cex=1.2, srt=90)\n",
    "  text(140, 335, 'Class2', cex=1.2, srt=90)\n",
    "\n",
    "  # add in the cm results \n",
    "  res <- as.numeric(cm$table)\n",
    "  text(195, 400, res[1], cex=1.6, font=2, col='white')\n",
    "  text(195, 335, res[2], cex=1.6, font=2, col='white')\n",
    "  text(295, 400, res[3], cex=1.6, font=2, col='white')\n",
    "  text(295, 335, res[4], cex=1.6, font=2, col='white')\n",
    "\n",
    "  # add in the specifics \n",
    "  plot(c(100, 0), c(100, 0), type = \"n\", xlab=\"\", ylab=\"\", main = \"DETAILS\", xaxt='n', yaxt='n')\n",
    "  text(10, 85, names(cm$byClass[1]), cex=1.2, font=2)\n",
    "  text(10, 70, round(as.numeric(cm$byClass[1]), 3), cex=1.2)\n",
    "  text(30, 85, names(cm$byClass[2]), cex=1.2, font=2)\n",
    "  text(30, 70, round(as.numeric(cm$byClass[2]), 3), cex=1.2)\n",
    "  text(50, 85, names(cm$byClass[5]), cex=1.2, font=2)\n",
    "  text(50, 70, round(as.numeric(cm$byClass[5]), 3), cex=1.2)\n",
    "  text(70, 85, names(cm$byClass[6]), cex=1.2, font=2)\n",
    "  text(70, 70, round(as.numeric(cm$byClass[6]), 3), cex=1.2)\n",
    "  text(90, 85, names(cm$byClass[7]), cex=1.2, font=2)\n",
    "  text(90, 70, round(as.numeric(cm$byClass[7]), 3), cex=1.2)\n",
    "}  "
   ]
  },
  {
   "cell_type": "code",
   "execution_count": 85,
   "id": "796eaada",
   "metadata": {
    "ExecuteTime": {
     "end_time": "2021-04-20T18:38:31.193323Z",
     "start_time": "2021-04-20T18:37:04.536Z"
    }
   },
   "outputs": [
    {
     "data": {
      "image/png": "[encoded data removed]",
      "text/plain": [
       "Plot with title \"DETAILS\""
      ]
     },
     "metadata": {},
     "output_type": "display_data"
    }
   ],
   "source": [
    "draw_confusion_matrix(res)"
   ]
  },
  {
   "cell_type": "code",
   "execution_count": 86,
   "id": "dea3928a",
   "metadata": {
    "ExecuteTime": {
     "end_time": "2021-04-20T18:38:50.087101Z",
     "start_time": "2021-04-20T18:37:06.073Z"
    }
   },
   "outputs": [],
   "source": [
    "as.numeric.factor <- function(x) {as.numeric(levels(x))[x]}"
   ]
  },
  {
   "cell_type": "code",
   "execution_count": 87,
   "id": "ec8c4691",
   "metadata": {
    "ExecuteTime": {
     "end_time": "2021-04-20T18:39:08.789805Z",
     "start_time": "2021-04-20T18:37:06.401Z"
    }
   },
   "outputs": [
    {
     "data": {
      "image/png": "[encoded data removed]",
      "text/plain": [
       "plot without title"
      ]
     },
     "metadata": {},
     "output_type": "display_data"
    }
   ],
   "source": [
    "pred <- prediction(as.numeric.factor(pred$pred), as.numeric.factor(pred$obs))\n",
    "perf <- performance(pred,\"tpr\",\"fpr\")\n",
    "plot(perf,colorize=TRUE)"
   ]
  }
 ],
 "metadata": {
  "kernelspec": {
   "display_name": "R",
   "language": "R",
   "name": "ir"
  },
  "language_info": {
   "codemirror_mode": "r",
   "file_extension": ".r",
   "mimetype": "text/x-r-source",
   "name": "R",
   "pygments_lexer": "r",
   "version": "3.6.1"
  },
  "toc": {
   "base_numbering": 1,
   "nav_menu": {},
   "number_sections": true,
   "sideBar": true,
   "skip_h1_title": false,
   "title_cell": "Table of Contents",
   "title_sidebar": "Contents",
   "toc_cell": false,
   "toc_position": {
    "height": "calc(100% - 180px)",
    "left": "10px",
    "top": "150px",
    "width": "339.2px"
   },
   "toc_section_display": true,
   "toc_window_display": true
  },
  "varInspector": {
   "cols": {
    "lenName": 16,
    "lenType": 16,
    "lenVar": 40
   },
   "kernels_config": {
    "python": {
     "delete_cmd_postfix": "",
     "delete_cmd_prefix": "del ",
     "library": "var_list.py",
     "varRefreshCmd": "print(var_dic_list())"
    },
    "r": {
     "delete_cmd_postfix": ") ",
     "delete_cmd_prefix": "rm(",
     "library": "var_list.r",
     "varRefreshCmd": "cat(var_dic_list()) "
    }
   },
   "types_to_exclude": [
    "module",
    "function",
    "builtin_function_or_method",
    "instance",
    "_Feature"
   ],
   "window_display": false
  }
 },
 "nbformat": 4,
 "nbformat_minor": 5
}